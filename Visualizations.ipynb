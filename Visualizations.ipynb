{
 "cells": [
  {
   "cell_type": "code",
   "execution_count": 1,
   "id": "7ac9f1f0-c30f-4e2d-ab33-ccba99617a98",
   "metadata": {},
   "outputs": [
    {
     "name": "stdout",
     "output_type": "stream",
     "text": [
      "Defaulting to user installation because normal site-packages is not writeable\n",
      "Requirement already satisfied: seaborn in /koko/system/anaconda/envs/python39/lib/python3.9/site-packages (0.11.2)\n",
      "Requirement already satisfied: numpy>=1.15 in /koko/system/anaconda/envs/python39/lib/python3.9/site-packages (from seaborn) (1.19.5)\n",
      "Requirement already satisfied: scipy>=1.0 in /koko/system/anaconda/envs/python39/lib/python3.9/site-packages (from seaborn) (1.6.3)\n",
      "Requirement already satisfied: pandas>=0.23 in /koko/system/anaconda/envs/python39/lib/python3.9/site-packages (from seaborn) (1.2.4)\n",
      "Requirement already satisfied: matplotlib>=2.2 in /koko/system/anaconda/envs/python39/lib/python3.9/site-packages (from seaborn) (3.4.2)\n",
      "Requirement already satisfied: pillow>=6.2.0 in /koko/system/anaconda/envs/python39/lib/python3.9/site-packages (from matplotlib>=2.2->seaborn) (8.2.0)\n",
      "Requirement already satisfied: kiwisolver>=1.0.1 in /koko/system/anaconda/envs/python39/lib/python3.9/site-packages (from matplotlib>=2.2->seaborn) (1.3.1)\n",
      "Requirement already satisfied: cycler>=0.10 in /koko/system/anaconda/envs/python39/lib/python3.9/site-packages (from matplotlib>=2.2->seaborn) (0.10.0)\n",
      "Requirement already satisfied: pyparsing>=2.2.1 in /koko/system/anaconda/envs/python39/lib/python3.9/site-packages (from matplotlib>=2.2->seaborn) (2.4.7)\n",
      "Requirement already satisfied: python-dateutil>=2.7 in /koko/system/anaconda/envs/python39/lib/python3.9/site-packages (from matplotlib>=2.2->seaborn) (2.8.1)\n",
      "Requirement already satisfied: six in /koko/system/anaconda/envs/python39/lib/python3.9/site-packages (from cycler>=0.10->matplotlib>=2.2->seaborn) (1.15.0)\n",
      "Requirement already satisfied: pytz>=2017.3 in /koko/system/anaconda/envs/python39/lib/python3.9/site-packages (from pandas>=0.23->seaborn) (2021.1)\n",
      "Note: you may need to restart the kernel to use updated packages.\n"
     ]
    }
   ],
   "source": [
    "pip install seaborn"
   ]
  },
  {
   "cell_type": "code",
   "execution_count": 2,
   "id": "ce917f01-8583-45ff-b2b5-ecd5b9070371",
   "metadata": {},
   "outputs": [],
   "source": [
    "import pandas as pd\n",
    "import numpy as np\n",
    "import warnings\n",
    "warnings.filterwarnings('ignore')\n",
    "from pyspark.sql.functions import *\n",
    "from pyspark.sql.types import *\n",
    "from pyspark.sql import SparkSession\n",
    "from pyspark.sql.functions import col, concat, lit, to_timestamp, year, month, dayofmonth, to_date, date_format\n",
    "from pyspark.sql import SQLContext\n",
    "sqlContext = SQLContext(sc)\n",
    "import plotly.express as px\n",
    "import plotly.graph_objects as go\n",
    "import matplotlib.pyplot as plt\n",
    "import seaborn as sns"
   ]
  },
  {
   "cell_type": "code",
   "execution_count": 3,
   "id": "101463d4-041e-4e2e-9501-dedad01a8f26",
   "metadata": {},
   "outputs": [],
   "source": [
    "yellow_19 = spark.read.load('Downloads/NYC-Yellow-Taxi-Spark-Streaming-main1/NYTaxiDataset/source/2019_Yellow_Taxi_Trip_Data.csv',format='csv', sep=',', inferSchema='true', header='true')\n",
    "yellow_20 = spark.read.load('Downloads/NYC-Yellow-Taxi-Spark-Streaming-main1/NYTaxiDataset/source/2020_Yellow_Taxi_Trip_Data.csv',format='csv', sep=',', inferSchema='true', header='true')\n",
    "yellow_21 = spark.read.load('Downloads/NYC-Yellow-Taxi-Spark-Streaming-main1/NYTaxiDataset/source/2021_Yellow_Taxi_Trip_Data.csv',format='csv', sep=',', inferSchema='true', header='true')"
   ]
  },
  {
   "cell_type": "code",
   "execution_count": 4,
   "id": "c273ce12-fc6c-407d-819f-fa8e2595c2e1",
   "metadata": {},
   "outputs": [],
   "source": [
    "data = yellow_19.union(yellow_20.union(yellow_21))"
   ]
  },
  {
   "cell_type": "code",
   "execution_count": 4,
   "id": "3c74dbc3-6bb9-4d44-93c0-34f92a6489e5",
   "metadata": {},
   "outputs": [
    {
     "data": {
      "text/plain": [
       "[('_c0', 'int'),\n",
       " ('VendorID', 'double'),\n",
       " ('tpep_pickup_datetime', 'string'),\n",
       " ('tpep_dropoff_datetime', 'string'),\n",
       " ('passenger_count', 'double'),\n",
       " ('trip_distance', 'double'),\n",
       " ('RatecodeID', 'double'),\n",
       " ('store_and_fwd_flag', 'string'),\n",
       " ('PULocationID', 'double'),\n",
       " ('DOLocationID', 'double'),\n",
       " ('payment_type', 'double'),\n",
       " ('fare_amount', 'double'),\n",
       " ('extra', 'double'),\n",
       " ('mta_tax', 'double'),\n",
       " ('tip_amount', 'double'),\n",
       " ('tolls_amount', 'double'),\n",
       " ('improvement_surcharge', 'double'),\n",
       " ('total_amount', 'double'),\n",
       " ('congestion_surcharge', 'double'),\n",
       " ('LocationID', 'int'),\n",
       " ('Borough', 'string'),\n",
       " ('Zone', 'string'),\n",
       " ('service_zone', 'string')]"
      ]
     },
     "execution_count": 4,
     "metadata": {},
     "output_type": "execute_result"
    }
   ],
   "source": [
    "data.dtypes"
   ]
  },
  {
   "cell_type": "code",
   "execution_count": 5,
   "id": "6dc8c42d-1ca0-4a51-a64f-32437f582708",
   "metadata": {},
   "outputs": [],
   "source": [
    "data = data.withColumn(\"tpep_pickup_datetime\", to_timestamp(col(\"tpep_pickup_datetime\"), \"MM/dd/yyyy hh:mm:ss a\"))\n",
    "data = data.withColumn(\"tpep_dropoff_datetime\", to_timestamp(col(\"tpep_dropoff_datetime\"), \"MM/dd/yyyy hh:mm:ss a\"))\n",
    "data = data.withColumn(\"date\", to_date(col(\"tpep_pickup_datetime\")))\n",
    "data = data.withColumn(\"time\", date_format('tpep_pickup_datetime', 'HH:mm:ss'))\n",
    "data = data.withColumn(\"hour\", date_format('tpep_pickup_datetime', 'HH'))\n",
    "data = data.withColumn(\"weekday\", date_format(col(\"tpep_pickup_datetime\"), \"EEEE\"))\n",
    "data = data.withColumn('duration',(unix_timestamp(\"tpep_dropoff_datetime\") - unix_timestamp('tpep_pickup_datetime'))/ 60)\n",
    "data = data.withColumn(\"tip_percent\", col(\"tip_amount\")/ col(\"total_amount\") * 100)\n",
    "data = data.withColumn(\"year\", year(data.date))"
   ]
  },
  {
   "cell_type": "code",
   "execution_count": 6,
   "id": "000c524e-f204-4c1a-bea8-278d11a91f03",
   "metadata": {},
   "outputs": [
    {
     "name": "stdout",
     "output_type": "stream",
     "text": [
      "+---+--------+--------------------+---------------------+---------------+-------------+----------+------------------+------------+------------+------------+-----------+-----+-------+----------+------------+---------------------+------------+--------------------+----------+---------+-------------------+------------+----------+--------+----+--------+------------------+------------------+----+\n",
      "|_c0|VendorID|tpep_pickup_datetime|tpep_dropoff_datetime|passenger_count|trip_distance|RatecodeID|store_and_fwd_flag|PULocationID|DOLocationID|payment_type|fare_amount|extra|mta_tax|tip_amount|tolls_amount|improvement_surcharge|total_amount|congestion_surcharge|LocationID|  Borough|               Zone|service_zone|      date|    time|hour| weekday|          duration|       tip_percent|year|\n",
      "+---+--------+--------------------+---------------------+---------------+-------------+----------+------------------+------------+------------+------------+-----------+-----+-------+----------+------------+---------------------+------------+--------------------+----------+---------+-------------------+------------+----------+--------+----+--------+------------------+------------------+----+\n",
      "|  0|     2.0| 2019-04-21 23:22:07|  2019-04-21 23:28:15|            1.0|         0.92|       1.0|                 N|       142.0|       161.0|         2.0|        6.0|  0.5|    0.5|       0.0|         0.0|                  0.3|         9.8|                 2.5|       142|Manhattan|Lincoln Square East| Yellow Zone|2019-04-21|23:22:07|  23|  Sunday| 6.133333333333334|               0.0|2019|\n",
      "|  1|     2.0| 2019-04-21 23:03:23|  2019-04-21 23:06:10|            2.0|         0.54|       1.0|                 N|       142.0|        48.0|         1.0|        4.0|  0.5|    0.5|      1.17|         0.0|                  0.3|        8.97|                 2.5|       142|Manhattan|Lincoln Square East| Yellow Zone|2019-04-21|23:03:23|  23|  Sunday| 2.783333333333333|13.043478260869565|2019|\n",
      "|  2|     1.0| 2019-04-21 23:30:31|  2019-04-21 23:46:34|            1.0|          5.2|       1.0|                 N|       142.0|         7.0|         2.0|       17.0|  3.0|    0.5|       0.0|         0.0|                  0.3|        20.8|                 2.5|       142|Manhattan|Lincoln Square East| Yellow Zone|2019-04-21|23:30:31|  23|  Sunday|             16.05|               0.0|2019|\n",
      "|  3|     2.0| 2019-04-21 23:06:23|  2019-04-21 23:17:18|            2.0|         2.58|       1.0|                 N|       142.0|       236.0|         1.0|       11.0|  0.5|    0.5|       2.0|         0.0|                  0.3|        16.8|                 2.5|       142|Manhattan|Lincoln Square East| Yellow Zone|2019-04-21|23:06:23|  23|  Sunday|10.916666666666666|11.904761904761903|2019|\n",
      "|  4|     2.0| 2019-04-21 23:57:57|  2019-04-22 00:16:24|            1.0|         4.55|       1.0|                 N|       142.0|       116.0|         1.0|       17.0|  0.5|    0.5|      4.16|         0.0|                  0.3|       24.96|                 2.5|       142|Manhattan|Lincoln Square East| Yellow Zone|2019-04-21|23:57:57|  23|  Sunday|             18.45|16.666666666666664|2019|\n",
      "|  5|     2.0| 2019-04-21 23:31:55|  2019-04-21 23:42:17|            1.0|         6.22|       1.0|                 N|       142.0|       244.0|         1.0|       18.5|  0.5|    0.5|       1.0|         0.0|                  0.3|        23.3|                 2.5|       142|Manhattan|Lincoln Square East| Yellow Zone|2019-04-21|23:31:55|  23|  Sunday|10.366666666666667| 4.291845493562231|2019|\n",
      "|  6|     1.0| 2019-04-21 23:05:32|  2019-04-21 23:12:13|            1.0|          1.0|       1.0|                 N|       142.0|        48.0|         2.0|        6.5|  3.0|    0.5|       0.0|         0.0|                  0.3|        10.3|                 2.5|       142|Manhattan|Lincoln Square East| Yellow Zone|2019-04-21|23:05:32|  23|  Sunday| 6.683333333333334|               0.0|2019|\n",
      "|  7|     1.0| 2019-04-21 23:28:36|  2019-04-21 23:40:10|            1.0|          2.1|       1.0|                 N|       142.0|       170.0|         1.0|       10.0|  3.0|    0.5|      2.75|         0.0|                  0.3|       16.55|                 2.5|       142|Manhattan|Lincoln Square East| Yellow Zone|2019-04-21|23:28:36|  23|  Sunday|11.566666666666666| 16.61631419939577|2019|\n",
      "|  8|     1.0| 2019-04-21 23:13:46|  2019-04-21 23:22:33|            1.0|          2.1|       1.0|                 N|       142.0|       162.0|         2.0|        9.0|  3.0|    0.5|       0.0|         0.0|                  0.3|        12.8|                 2.5|       142|Manhattan|Lincoln Square East| Yellow Zone|2019-04-21|23:13:46|  23|  Sunday| 8.783333333333333|               0.0|2019|\n",
      "|  9|     2.0| 2019-04-21 23:31:46|  2019-04-21 23:43:53|            1.0|         3.56|       1.0|                 N|       142.0|       158.0|         1.0|       12.5|  0.5|    0.5|      4.08|         0.0|                  0.3|       20.38|                 2.5|       142|Manhattan|Lincoln Square East| Yellow Zone|2019-04-21|23:31:46|  23|  Sunday|12.116666666666667|20.019627085377824|2019|\n",
      "| 10|     2.0| 2019-04-21 23:15:49|  2019-04-21 23:21:34|            1.0|          1.3|       1.0|                 N|       142.0|       237.0|         2.0|        6.5|  0.5|    0.5|       0.0|         0.0|                  0.3|        10.3|                 2.5|       142|Manhattan|Lincoln Square East| Yellow Zone|2019-04-21|23:15:49|  23|  Sunday|              5.75|               0.0|2019|\n",
      "| 11|     2.0| 2019-04-21 23:12:15|  2019-04-21 23:19:46|            1.0|         2.16|       1.0|                 N|       142.0|       236.0|         1.0|        8.5|  0.5|    0.5|      2.46|         0.0|                  0.3|       14.76|                 2.5|       142|Manhattan|Lincoln Square East| Yellow Zone|2019-04-21|23:12:15|  23|  Sunday| 7.516666666666667|16.666666666666664|2019|\n",
      "| 12|     2.0| 2019-04-21 23:52:07|  2019-04-21 23:54:53|            1.0|         0.49|       1.0|                 N|       142.0|       142.0|         2.0|        4.0|  0.5|    0.5|       0.0|         0.0|                  0.3|         7.8|                 2.5|       142|Manhattan|Lincoln Square East| Yellow Zone|2019-04-21|23:52:07|  23|  Sunday|2.7666666666666666|               0.0|2019|\n",
      "| 13|     2.0| 2019-04-21 23:56:48|  2019-04-22 00:18:22|            1.0|         8.14|       1.0|                 N|       142.0|       244.0|         1.0|       25.5|  0.5|    0.5|      5.86|         0.0|                  0.3|       35.16|                 2.5|       142|Manhattan|Lincoln Square East| Yellow Zone|2019-04-21|23:56:48|  23|  Sunday|21.566666666666666|16.666666666666668|2019|\n",
      "| 14|     2.0| 2019-04-21 23:12:52|  2019-04-21 23:19:30|            1.0|         2.21|       1.0|                 N|       142.0|       246.0|         1.0|        8.5|  0.5|    0.5|      2.46|         0.0|                  0.3|       14.76|                 2.5|       142|Manhattan|Lincoln Square East| Yellow Zone|2019-04-21|23:12:52|  23|  Sunday| 6.633333333333334|16.666666666666664|2019|\n",
      "| 15|     2.0| 2019-04-21 23:16:41|  2019-04-21 23:29:01|            1.0|         3.95|       1.0|                 N|       142.0|        74.0|         2.0|       13.5|  0.5|    0.5|       0.0|         0.0|                  0.3|        17.3|                 2.5|       142|Manhattan|Lincoln Square East| Yellow Zone|2019-04-21|23:16:41|  23|  Sunday|12.333333333333334|               0.0|2019|\n",
      "| 16|     2.0| 2019-04-20 23:16:21|  2019-04-21 00:09:47|            1.0|        11.72|       1.0|                 N|       142.0|       181.0|         1.0|       43.0|  0.5|    0.5|      11.7|         0.0|                  0.3|        58.5|                 2.5|       142|Manhattan|Lincoln Square East| Yellow Zone|2019-04-20|23:16:21|  23|Saturday| 53.43333333333333|              20.0|2019|\n",
      "| 17|     2.0| 2019-04-21 23:56:29|  2019-04-21 23:58:48|            1.0|         0.76|       1.0|                 N|       142.0|       239.0|         2.0|        4.5|  0.5|    0.5|       0.0|         0.0|                  0.3|         8.3|                 2.5|       142|Manhattan|Lincoln Square East| Yellow Zone|2019-04-21|23:56:29|  23|  Sunday| 2.316666666666667|               0.0|2019|\n",
      "| 18|     1.0| 2019-04-21 23:02:02|  2019-04-21 23:11:59|            1.0|          3.0|       1.0|                 N|       142.0|       166.0|         2.0|       11.0|  3.0|    0.5|       0.0|         0.0|                  0.3|        14.8|                 2.5|       142|Manhattan|Lincoln Square East| Yellow Zone|2019-04-21|23:02:02|  23|  Sunday|              9.95|               0.0|2019|\n",
      "| 19|     1.0| 2019-04-21 23:20:23|  2019-04-21 23:41:30|            1.0|          5.5|       1.0|                 N|       142.0|       223.0|         2.0|       19.5|  3.0|    0.5|       0.0|         0.0|                  0.3|        23.3|                 2.5|       142|Manhattan|Lincoln Square East| Yellow Zone|2019-04-21|23:20:23|  23|  Sunday|21.116666666666667|               0.0|2019|\n",
      "+---+--------+--------------------+---------------------+---------------+-------------+----------+------------------+------------+------------+------------+-----------+-----+-------+----------+------------+---------------------+------------+--------------------+----------+---------+-------------------+------------+----------+--------+----+--------+------------------+------------------+----+\n",
      "only showing top 20 rows\n",
      "\n"
     ]
    }
   ],
   "source": [
    "data.show()"
   ]
  },
  {
   "cell_type": "code",
   "execution_count": 7,
   "id": "70c77bec-aa95-4978-a02d-ef1c009e355d",
   "metadata": {},
   "outputs": [
    {
     "name": "stdout",
     "output_type": "stream",
     "text": [
      "root\n",
      " |-- _c0: integer (nullable = true)\n",
      " |-- VendorID: double (nullable = true)\n",
      " |-- tpep_pickup_datetime: timestamp (nullable = true)\n",
      " |-- tpep_dropoff_datetime: timestamp (nullable = true)\n",
      " |-- passenger_count: double (nullable = true)\n",
      " |-- trip_distance: double (nullable = true)\n",
      " |-- RatecodeID: double (nullable = true)\n",
      " |-- store_and_fwd_flag: string (nullable = true)\n",
      " |-- PULocationID: double (nullable = true)\n",
      " |-- DOLocationID: double (nullable = true)\n",
      " |-- payment_type: double (nullable = true)\n",
      " |-- fare_amount: double (nullable = true)\n",
      " |-- extra: double (nullable = true)\n",
      " |-- mta_tax: double (nullable = true)\n",
      " |-- tip_amount: double (nullable = true)\n",
      " |-- tolls_amount: double (nullable = true)\n",
      " |-- improvement_surcharge: double (nullable = true)\n",
      " |-- total_amount: double (nullable = true)\n",
      " |-- congestion_surcharge: double (nullable = true)\n",
      " |-- LocationID: integer (nullable = true)\n",
      " |-- Borough: string (nullable = true)\n",
      " |-- Zone: string (nullable = true)\n",
      " |-- service_zone: string (nullable = true)\n",
      " |-- date: date (nullable = true)\n",
      " |-- time: string (nullable = true)\n",
      " |-- hour: string (nullable = true)\n",
      " |-- weekday: string (nullable = true)\n",
      " |-- duration: double (nullable = true)\n",
      " |-- tip_percent: double (nullable = true)\n",
      " |-- year: integer (nullable = true)\n",
      "\n"
     ]
    }
   ],
   "source": [
    "data.printSchema()"
   ]
  },
  {
   "cell_type": "code",
   "execution_count": 8,
   "id": "e42870d1-ca4c-40c2-a4e3-8c0b192ba0f1",
   "metadata": {},
   "outputs": [],
   "source": [
    "data = data.drop(\"_c0\")"
   ]
  },
  {
   "cell_type": "code",
   "execution_count": 9,
   "id": "faf54224-7b10-410a-ba89-d6ab729aac7a",
   "metadata": {},
   "outputs": [
    {
     "name": "stdout",
     "output_type": "stream",
     "text": [
      "root\n",
      " |-- VendorID: double (nullable = true)\n",
      " |-- tpep_pickup_datetime: timestamp (nullable = true)\n",
      " |-- tpep_dropoff_datetime: timestamp (nullable = true)\n",
      " |-- passenger_count: double (nullable = true)\n",
      " |-- trip_distance: double (nullable = true)\n",
      " |-- RatecodeID: double (nullable = true)\n",
      " |-- store_and_fwd_flag: string (nullable = true)\n",
      " |-- PULocationID: double (nullable = true)\n",
      " |-- DOLocationID: double (nullable = true)\n",
      " |-- payment_type: double (nullable = true)\n",
      " |-- fare_amount: double (nullable = true)\n",
      " |-- extra: double (nullable = true)\n",
      " |-- mta_tax: double (nullable = true)\n",
      " |-- tip_amount: double (nullable = true)\n",
      " |-- tolls_amount: double (nullable = true)\n",
      " |-- improvement_surcharge: double (nullable = true)\n",
      " |-- total_amount: double (nullable = true)\n",
      " |-- congestion_surcharge: double (nullable = true)\n",
      " |-- LocationID: integer (nullable = true)\n",
      " |-- Borough: string (nullable = true)\n",
      " |-- Zone: string (nullable = true)\n",
      " |-- service_zone: string (nullable = true)\n",
      " |-- date: date (nullable = true)\n",
      " |-- time: string (nullable = true)\n",
      " |-- hour: string (nullable = true)\n",
      " |-- weekday: string (nullable = true)\n",
      " |-- duration: double (nullable = true)\n",
      " |-- tip_percent: double (nullable = true)\n",
      " |-- year: integer (nullable = true)\n",
      "\n"
     ]
    }
   ],
   "source": [
    "data.printSchema()"
   ]
  },
  {
   "cell_type": "code",
   "execution_count": 10,
   "id": "ac8efbb7-a143-4c6d-bfd8-706f0e562b6f",
   "metadata": {},
   "outputs": [],
   "source": [
    "## Registering dataframe as a Table\n",
    "\n",
    "\n",
    "sqlCtx.registerDataFrameAsTable(data, \"nyc_taxi_data\")"
   ]
  },
  {
   "cell_type": "code",
   "execution_count": 35,
   "id": "1bae8a03-a636-43b0-9332-4d95637e99a1",
   "metadata": {},
   "outputs": [],
   "source": [
    "df1 = sqlCtx.sql(\"SELECT Borough, avg(total_amount) as total_amount from nyc_taxi_data where Borough != 'EWR' group by Borough;\")\n",
    "df2 = sqlCtx.sql(\"SELECT Borough, avg(tip_percent) as avg_tip from nyc_taxi_data where Borough != 'EWR' group by Borough;\")\n",
    "df3 = sqlCtx.sql(\"SELECT Borough, avg(duration) as avg_duration from nyc_taxi_data where Borough != 'EWR' group by Borough;\")\n",
    "df4 = sqlCtx.sql(\"SELECT Borough, avg(trip_distance) as avg_dist from nyc_taxi_data where Borough != 'EWR' group by Borough;\")"
   ]
  },
  {
   "cell_type": "code",
   "execution_count": 12,
   "id": "e9300e6c-458e-4afc-b5e0-01da8a1591e7",
   "metadata": {},
   "outputs": [
    {
     "name": "stdout",
     "output_type": "stream",
     "text": [
      "+-------------+------------------+\n",
      "|      Borough|      total_amount|\n",
      "+-------------+------------------+\n",
      "|    Manhattan| 16.91584707894637|\n",
      "|       Queens| 46.45784964778371|\n",
      "|      Unknown| 29.78353307953493|\n",
      "|     Brooklyn|27.909377296284955|\n",
      "|Staten Island| 79.79085361093001|\n",
      "|        Bronx| 32.65105195626656|\n",
      "+-------------+------------------+\n",
      "\n"
     ]
    }
   ],
   "source": [
    "df1.show()"
   ]
  },
  {
   "cell_type": "code",
   "execution_count": 36,
   "id": "0ecdebf8-ee2b-4c40-a3e5-803fefd469e2",
   "metadata": {},
   "outputs": [],
   "source": [
    "#s1 = df1.sample(False, 0.05, 20)\n",
    "df1 = df1.toPandas()\n",
    "df2 = df2.toPandas()\n",
    "df3 = df3.toPandas()\n",
    "df4 = df4.toPandas()"
   ]
  },
  {
   "cell_type": "code",
   "execution_count": 37,
   "id": "a459ff97-c241-4dcc-b8ca-855132edb2c8",
   "metadata": {},
   "outputs": [
    {
     "data": {
      "text/plain": [
       "<AxesSubplot:xlabel='Borough', ylabel='total_amount'>"
      ]
     },
     "execution_count": 37,
     "metadata": {},
     "output_type": "execute_result"
    },
    {
     "data": {
      "image/png": "[encoded data removed]",
      "text/plain": [
       "<Figure size 1800x1080 with 1 Axes>"
      ]
     },
     "metadata": {
      "needs_background": "light"
     },
     "output_type": "display_data"
    }
   ],
   "source": [
    "#fig = px.bar(s1, x=\"Zone\", y=\"total_fare\")\n",
    "fig = plt.figure(figsize = (25, 15))\n",
    "sns.barplot(x = 'Borough', y = 'total_amount', data = df1)"
   ]
  },
  {
   "cell_type": "code",
   "execution_count": 38,
   "id": "b77bf754-2266-4139-98a2-8681efe1e782",
   "metadata": {},
   "outputs": [
    {
     "data": {
      "text/plain": [
       "<AxesSubplot:xlabel='Borough', ylabel='avg_tip'>"
      ]
     },
     "execution_count": 38,
     "metadata": {},
     "output_type": "execute_result"
    },
    {
     "data": {
      "image/png": "[encoded data removed]",
      "text/plain": [
       "<Figure size 1800x1080 with 1 Axes>"
      ]
     },
     "metadata": {
      "needs_background": "light"
     },
     "output_type": "display_data"
    }
   ],
   "source": [
    "#fig = px.bar(s1, x=\"Zone\", y=\"total_fare\")\n",
    "fig = plt.figure(figsize = (25, 15))\n",
    "sns.barplot(x = 'Borough', y = 'avg_tip', data = df2)"
   ]
  },
  {
   "cell_type": "code",
   "execution_count": 39,
   "id": "a220f07c-73ad-4a6a-9048-5c3783770366",
   "metadata": {},
   "outputs": [
    {
     "data": {
      "text/plain": [
       "<AxesSubplot:xlabel='Borough', ylabel='avg_duration'>"
      ]
     },
     "execution_count": 39,
     "metadata": {},
     "output_type": "execute_result"
    },
    {
     "data": {
      "image/png": "[encoded data removed]",
      "text/plain": [
       "<Figure size 1800x1080 with 1 Axes>"
      ]
     },
     "metadata": {
      "needs_background": "light"
     },
     "output_type": "display_data"
    }
   ],
   "source": [
    "#fig = px.bar(s1, x=\"Zone\", y=\"total_fare\")\n",
    "fig = plt.figure(figsize = (25, 15))\n",
    "sns.barplot(x = 'Borough', y = 'avg_duration', data = df3)"
   ]
  },
  {
   "cell_type": "code",
   "execution_count": 40,
   "id": "9d50036b-7f2c-43b0-bfb1-d1280871ac6f",
   "metadata": {},
   "outputs": [
    {
     "data": {
      "text/plain": [
       "<AxesSubplot:xlabel='Borough', ylabel='avg_dist'>"
      ]
     },
     "execution_count": 40,
     "metadata": {},
     "output_type": "execute_result"
    },
    {
     "data": {
      "image/png": "[encoded data removed]",
      "text/plain": [
       "<Figure size 1800x1080 with 1 Axes>"
      ]
     },
     "metadata": {
      "needs_background": "light"
     },
     "output_type": "display_data"
    }
   ],
   "source": [
    "#fig = px.bar(s1, x=\"Zone\", y=\"total_fare\")\n",
    "fig = plt.figure(figsize = (25, 15))\n",
    "sns.barplot(x = 'Borough', y = 'avg_dist', data = df4)"
   ]
  },
  {
   "cell_type": "code",
   "execution_count": 22,
   "id": "2dcf8cdf-70ab-41c3-bfd6-39b2d15e8c1e",
   "metadata": {},
   "outputs": [],
   "source": [
    "df5 = sqlCtx.sql(\"SELECT hour, avg(tip_percent) as avg_tip_percent from nyc_taxi_data where Borough != 'EWR' group by hour;\")"
   ]
  },
  {
   "cell_type": "code",
   "execution_count": 23,
   "id": "4f02bfe7-2794-4648-8b60-666447fe2c80",
   "metadata": {},
   "outputs": [
    {
     "name": "stdout",
     "output_type": "stream",
     "text": [
      "+----+------------------+\n",
      "|hour|   avg_tip_percent|\n",
      "+----+------------------+\n",
      "|  07|11.178048740750981|\n",
      "|  15|10.908171929935603|\n",
      "|  11|10.896793070879118|\n",
      "|  01|10.931079743822671|\n",
      "|  22|11.826083236999937|\n",
      "|  16| 10.97407438332724|\n",
      "|  18|11.649819607321266|\n",
      "|  00|11.159074796208555|\n",
      "|  17|11.368205606385805|\n",
      "|  09|11.317792421884828|\n",
      "|  05| 8.921531786273674|\n",
      "|  19|11.679142531315009|\n",
      "|  23|11.409977783185303|\n",
      "|  08|11.586248322035331|\n",
      "|  03| 9.932457264437225|\n",
      "|  02|10.633407687132426|\n",
      "|  06|10.119914402585415|\n",
      "|  20|11.737903047739763|\n",
      "|  10|10.988481944317831|\n",
      "|  12|10.892422009657349|\n",
      "+----+------------------+\n",
      "only showing top 20 rows\n",
      "\n"
     ]
    }
   ],
   "source": [
    "df5.show()"
   ]
  },
  {
   "cell_type": "code",
   "execution_count": 24,
   "id": "824c70ce-9eac-4307-82e4-b7c81225bf12",
   "metadata": {},
   "outputs": [],
   "source": [
    "df5 = df5.toPandas()"
   ]
  },
  {
   "cell_type": "code",
   "execution_count": 25,
   "id": "ea548989-6a7b-45b9-aff7-22905615925f",
   "metadata": {},
   "outputs": [],
   "source": [
    "df5 = df5.sort_values(by=['hour'])"
   ]
  },
  {
   "cell_type": "code",
   "execution_count": 27,
   "id": "30dad168-7ca4-4274-82e9-30c4ba670ed0",
   "metadata": {},
   "outputs": [
    {
     "data": {
      "text/plain": [
       "<AxesSubplot:xlabel='hour'>"
      ]
     },
     "execution_count": 27,
     "metadata": {},
     "output_type": "execute_result"
    },
    {
     "data": {
      "text/plain": [
       "<Figure size 1800x1080 with 0 Axes>"
      ]
     },
     "metadata": {},
     "output_type": "display_data"
    },
    {
     "data": {
      "image/png": "[encoded data removed]",
      "text/plain": [
       "<Figure size 432x288 with 1 Axes>"
      ]
     },
     "metadata": {
      "needs_background": "light"
     },
     "output_type": "display_data"
    }
   ],
   "source": [
    "fig = plt.figure(figsize = (25, 15))\n",
    "\n",
    "df5.plot.bar(x = 'hour', y = 'avg_tip_percent')\n",
    "#sns.barplot(x = 'hour', y = 'avg_tip', data = df5)"
   ]
  },
  {
   "cell_type": "code",
   "execution_count": 29,
   "id": "fee5fafc-6eac-4614-9b21-d1818aaf649f",
   "metadata": {},
   "outputs": [],
   "source": [
    "df6 = sqlCtx.sql(\"SELECT hour, count(*) as count from nyc_taxi_data where Borough != 'EWR' group by hour;\")"
   ]
  },
  {
   "cell_type": "code",
   "execution_count": 30,
   "id": "9c54b60d-58cb-4f55-82bb-d93db1ab1b39",
   "metadata": {},
   "outputs": [],
   "source": [
    "df6 = df6.toPandas()"
   ]
  },
  {
   "cell_type": "code",
   "execution_count": 31,
   "id": "a4caaed3-43de-4e74-8d26-da12fe0220c2",
   "metadata": {},
   "outputs": [],
   "source": [
    "df6 = df6.sort_values(by=['hour'])"
   ]
  },
  {
   "cell_type": "code",
   "execution_count": 33,
   "id": "72759691-5e27-493a-ab81-a58f76c15713",
   "metadata": {},
   "outputs": [
    {
     "data": {
      "text/html": [
       "<div>\n",
       "<style scoped>\n",
       "    .dataframe tbody tr th:only-of-type {\n",
       "        vertical-align: middle;\n",
       "    }\n",
       "\n",
       "    .dataframe tbody tr th {\n",
       "        vertical-align: top;\n",
       "    }\n",
       "\n",
       "    .dataframe thead th {\n",
       "        text-align: right;\n",
       "    }\n",
       "</style>\n",
       "<table border=\"1\" class=\"dataframe\">\n",
       "  <thead>\n",
       "    <tr style=\"text-align: right;\">\n",
       "      <th></th>\n",
       "      <th>hour</th>\n",
       "      <th>count</th>\n",
       "    </tr>\n",
       "  </thead>\n",
       "  <tbody>\n",
       "    <tr>\n",
       "      <th>7</th>\n",
       "      <td>00</td>\n",
       "      <td>1502563</td>\n",
       "    </tr>\n",
       "    <tr>\n",
       "      <th>3</th>\n",
       "      <td>01</td>\n",
       "      <td>998876</td>\n",
       "    </tr>\n",
       "    <tr>\n",
       "      <th>15</th>\n",
       "      <td>02</td>\n",
       "      <td>667445</td>\n",
       "    </tr>\n",
       "    <tr>\n",
       "      <th>14</th>\n",
       "      <td>03</td>\n",
       "      <td>460288</td>\n",
       "    </tr>\n",
       "    <tr>\n",
       "      <th>20</th>\n",
       "      <td>04</td>\n",
       "      <td>365299</td>\n",
       "    </tr>\n",
       "    <tr>\n",
       "      <th>10</th>\n",
       "      <td>05</td>\n",
       "      <td>472520</td>\n",
       "    </tr>\n",
       "    <tr>\n",
       "      <th>16</th>\n",
       "      <td>06</td>\n",
       "      <td>1193720</td>\n",
       "    </tr>\n",
       "    <tr>\n",
       "      <th>0</th>\n",
       "      <td>07</td>\n",
       "      <td>2153779</td>\n",
       "    </tr>\n",
       "    <tr>\n",
       "      <th>13</th>\n",
       "      <td>08</td>\n",
       "      <td>2864854</td>\n",
       "    </tr>\n",
       "    <tr>\n",
       "      <th>9</th>\n",
       "      <td>09</td>\n",
       "      <td>3059497</td>\n",
       "    </tr>\n",
       "    <tr>\n",
       "      <th>18</th>\n",
       "      <td>10</td>\n",
       "      <td>3261888</td>\n",
       "    </tr>\n",
       "    <tr>\n",
       "      <th>2</th>\n",
       "      <td>11</td>\n",
       "      <td>3511767</td>\n",
       "    </tr>\n",
       "    <tr>\n",
       "      <th>19</th>\n",
       "      <td>12</td>\n",
       "      <td>3819770</td>\n",
       "    </tr>\n",
       "    <tr>\n",
       "      <th>21</th>\n",
       "      <td>13</td>\n",
       "      <td>3921675</td>\n",
       "    </tr>\n",
       "    <tr>\n",
       "      <th>22</th>\n",
       "      <td>14</td>\n",
       "      <td>4195761</td>\n",
       "    </tr>\n",
       "    <tr>\n",
       "      <th>1</th>\n",
       "      <td>15</td>\n",
       "      <td>4257256</td>\n",
       "    </tr>\n",
       "    <tr>\n",
       "      <th>5</th>\n",
       "      <td>16</td>\n",
       "      <td>4078523</td>\n",
       "    </tr>\n",
       "    <tr>\n",
       "      <th>8</th>\n",
       "      <td>17</td>\n",
       "      <td>4377976</td>\n",
       "    </tr>\n",
       "    <tr>\n",
       "      <th>6</th>\n",
       "      <td>18</td>\n",
       "      <td>4520749</td>\n",
       "    </tr>\n",
       "    <tr>\n",
       "      <th>11</th>\n",
       "      <td>19</td>\n",
       "      <td>3985323</td>\n",
       "    </tr>\n",
       "    <tr>\n",
       "      <th>17</th>\n",
       "      <td>20</td>\n",
       "      <td>3329898</td>\n",
       "    </tr>\n",
       "    <tr>\n",
       "      <th>23</th>\n",
       "      <td>21</td>\n",
       "      <td>3098256</td>\n",
       "    </tr>\n",
       "    <tr>\n",
       "      <th>4</th>\n",
       "      <td>22</td>\n",
       "      <td>2806831</td>\n",
       "    </tr>\n",
       "    <tr>\n",
       "      <th>12</th>\n",
       "      <td>23</td>\n",
       "      <td>2182026</td>\n",
       "    </tr>\n",
       "  </tbody>\n",
       "</table>\n",
       "</div>"
      ],
      "text/plain": [
       "   hour    count\n",
       "7    00  1502563\n",
       "3    01   998876\n",
       "15   02   667445\n",
       "14   03   460288\n",
       "20   04   365299\n",
       "10   05   472520\n",
       "16   06  1193720\n",
       "0    07  2153779\n",
       "13   08  2864854\n",
       "9    09  3059497\n",
       "18   10  3261888\n",
       "2    11  3511767\n",
       "19   12  3819770\n",
       "21   13  3921675\n",
       "22   14  4195761\n",
       "1    15  4257256\n",
       "5    16  4078523\n",
       "8    17  4377976\n",
       "6    18  4520749\n",
       "11   19  3985323\n",
       "17   20  3329898\n",
       "23   21  3098256\n",
       "4    22  2806831\n",
       "12   23  2182026"
      ]
     },
     "execution_count": 33,
     "metadata": {},
     "output_type": "execute_result"
    }
   ],
   "source": [
    "df6"
   ]
  },
  {
   "cell_type": "code",
   "execution_count": 34,
   "id": "e7e6039f-3cda-4899-8bed-b4012a06de71",
   "metadata": {},
   "outputs": [
    {
     "data": {
      "text/plain": [
       "<AxesSubplot:xlabel='hour'>"
      ]
     },
     "execution_count": 34,
     "metadata": {},
     "output_type": "execute_result"
    },
    {
     "data": {
      "text/plain": [
       "<Figure size 1800x1080 with 0 Axes>"
      ]
     },
     "metadata": {},
     "output_type": "display_data"
    },
    {
     "data": {
      "image/png": "[encoded data removed]",
      "text/plain": [
       "<Figure size 432x288 with 1 Axes>"
      ]
     },
     "metadata": {
      "needs_background": "light"
     },
     "output_type": "display_data"
    }
   ],
   "source": [
    "fig = plt.figure(figsize = (25, 15))\n",
    "\n",
    "df6.plot.bar(x = 'hour', y = 'count')"
   ]
  }
 ],
 "metadata": {
  "kernelspec": {
   "display_name": "Spark 3 in Python 3",
   "language": "python",
   "name": "pyspark3"
  },
  "language_info": {
   "codemirror_mode": {
    "name": "ipython",
    "version": 3
   },
   "file_extension": ".py",
   "mimetype": "text/x-python",
   "name": "python",
   "nbconvert_exporter": "python",
   "pygments_lexer": "ipython3",
   "version": "3.9.5"
  }
 },
 "nbformat": 4,
 "nbformat_minor": 5
}
