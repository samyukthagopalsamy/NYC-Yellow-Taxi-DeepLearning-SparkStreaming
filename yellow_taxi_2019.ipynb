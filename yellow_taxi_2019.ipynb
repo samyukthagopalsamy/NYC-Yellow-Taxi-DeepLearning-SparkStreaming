{
 "cells": [
  {
   "cell_type": "code",
   "execution_count": 1,
   "id": "dbcb09af-27cc-49d3-92fd-a2a432653f6a",
   "metadata": {},
   "outputs": [],
   "source": [
    "import pandas as pd\n",
    "import numpy as np\n",
    "from pyspark.sql.functions import col, to_timestamp, month\n",
    "import matplotlib.pyplot as plt\n",
    "import tensorflow as tf\n",
    "from tensorflow import keras\n",
    "from tensorflow.keras.models import Sequential\n",
    "from tensorflow.keras.layers import Dense"
   ]
  },
  {
   "cell_type": "code",
   "execution_count": 2,
   "id": "11112995-27e1-4585-b0e1-ea30f87f8020",
   "metadata": {},
   "outputs": [],
   "source": [
    "yellow_19 = spark.read.load('2019_Yellow_Taxi_Trip_Data.csv',format='csv', sep=',', inferSchema='true', header='true')"
   ]
  },
  {
   "cell_type": "code",
   "execution_count": 3,
   "id": "1317f496-b95b-48ab-b8c8-b54b62861e0e",
   "metadata": {},
   "outputs": [
    {
     "data": {
      "text/plain": [
       "9539986"
      ]
     },
     "execution_count": 3,
     "metadata": {},
     "output_type": "execute_result"
    }
   ],
   "source": [
    "yellow_19.count()"
   ]
  },
  {
   "cell_type": "code",
   "execution_count": 4,
   "id": "6b3a1a38-be54-41fc-bf74-9cf862e64fec",
   "metadata": {},
   "outputs": [
    {
     "name": "stdout",
     "output_type": "stream",
     "text": [
      "root\n",
      " |-- VendorID: string (nullable = true)\n",
      " |-- tpep_pickup_datetime: string (nullable = true)\n",
      " |-- tpep_dropoff_datetime: string (nullable = true)\n",
      " |-- passenger_count: integer (nullable = true)\n",
      " |-- trip_distance: double (nullable = true)\n",
      " |-- RatecodeID: integer (nullable = true)\n",
      " |-- store_and_fwd_flag: string (nullable = true)\n",
      " |-- PULocationID: integer (nullable = true)\n",
      " |-- DOLocationID: integer (nullable = true)\n",
      " |-- payment_type: integer (nullable = true)\n",
      " |-- fare_amount: double (nullable = true)\n",
      " |-- extra: double (nullable = true)\n",
      " |-- mta_tax: double (nullable = true)\n",
      " |-- tip_amount: double (nullable = true)\n",
      " |-- tolls_amount: double (nullable = true)\n",
      " |-- improvement_surcharge: double (nullable = true)\n",
      " |-- total_amount: double (nullable = true)\n",
      " |-- congestion_surcharge: double (nullable = true)\n",
      "\n"
     ]
    }
   ],
   "source": [
    "yellow_19.printSchema()"
   ]
  },
  {
   "cell_type": "code",
   "execution_count": 5,
   "id": "90e81bc9-f015-4ed2-bf0f-03ea927e0fee",
   "metadata": {},
   "outputs": [
    {
     "data": {
      "text/html": [
       "<div>\n",
       "<style scoped>\n",
       "    .dataframe tbody tr th:only-of-type {\n",
       "        vertical-align: middle;\n",
       "    }\n",
       "\n",
       "    .dataframe tbody tr th {\n",
       "        vertical-align: top;\n",
       "    }\n",
       "\n",
       "    .dataframe thead th {\n",
       "        text-align: right;\n",
       "    }\n",
       "</style>\n",
       "<table border=\"1\" class=\"dataframe\">\n",
       "  <thead>\n",
       "    <tr style=\"text-align: right;\">\n",
       "      <th></th>\n",
       "      <th>VendorID</th>\n",
       "      <th>tpep_pickup_datetime</th>\n",
       "      <th>tpep_dropoff_datetime</th>\n",
       "      <th>passenger_count</th>\n",
       "      <th>trip_distance</th>\n",
       "      <th>RatecodeID</th>\n",
       "      <th>store_and_fwd_flag</th>\n",
       "      <th>PULocationID</th>\n",
       "      <th>DOLocationID</th>\n",
       "      <th>payment_type</th>\n",
       "      <th>fare_amount</th>\n",
       "      <th>extra</th>\n",
       "      <th>mta_tax</th>\n",
       "      <th>tip_amount</th>\n",
       "      <th>tolls_amount</th>\n",
       "      <th>improvement_surcharge</th>\n",
       "      <th>total_amount</th>\n",
       "      <th>congestion_surcharge</th>\n",
       "    </tr>\n",
       "  </thead>\n",
       "  <tbody>\n",
       "    <tr>\n",
       "      <th>0</th>\n",
       "      <td>2</td>\n",
       "      <td>04/21/2019 11:22:07 PM</td>\n",
       "      <td>04/21/2019 11:28:15 PM</td>\n",
       "      <td>1</td>\n",
       "      <td>0.92</td>\n",
       "      <td>1</td>\n",
       "      <td>N</td>\n",
       "      <td>142</td>\n",
       "      <td>161</td>\n",
       "      <td>2</td>\n",
       "      <td>6.0</td>\n",
       "      <td>0.5</td>\n",
       "      <td>0.5</td>\n",
       "      <td>0.00</td>\n",
       "      <td>0.0</td>\n",
       "      <td>0.3</td>\n",
       "      <td>9.80</td>\n",
       "      <td>2.5</td>\n",
       "    </tr>\n",
       "    <tr>\n",
       "      <th>1</th>\n",
       "      <td>2</td>\n",
       "      <td>04/21/2019 11:51:32 PM</td>\n",
       "      <td>04/21/2019 11:59:41 PM</td>\n",
       "      <td>1</td>\n",
       "      <td>1.81</td>\n",
       "      <td>1</td>\n",
       "      <td>N</td>\n",
       "      <td>186</td>\n",
       "      <td>249</td>\n",
       "      <td>1</td>\n",
       "      <td>8.0</td>\n",
       "      <td>0.5</td>\n",
       "      <td>0.5</td>\n",
       "      <td>2.95</td>\n",
       "      <td>0.0</td>\n",
       "      <td>0.3</td>\n",
       "      <td>14.75</td>\n",
       "      <td>2.5</td>\n",
       "    </tr>\n",
       "    <tr>\n",
       "      <th>2</th>\n",
       "      <td>2</td>\n",
       "      <td>04/21/2019 09:54:40 PM</td>\n",
       "      <td>04/21/2019 10:04:16 PM</td>\n",
       "      <td>1</td>\n",
       "      <td>1.68</td>\n",
       "      <td>1</td>\n",
       "      <td>N</td>\n",
       "      <td>164</td>\n",
       "      <td>48</td>\n",
       "      <td>2</td>\n",
       "      <td>8.5</td>\n",
       "      <td>0.5</td>\n",
       "      <td>0.5</td>\n",
       "      <td>0.00</td>\n",
       "      <td>0.0</td>\n",
       "      <td>0.3</td>\n",
       "      <td>12.30</td>\n",
       "      <td>2.5</td>\n",
       "    </tr>\n",
       "    <tr>\n",
       "      <th>3</th>\n",
       "      <td>1</td>\n",
       "      <td>04/21/2019 11:27:19 PM</td>\n",
       "      <td>04/21/2019 11:39:45 PM</td>\n",
       "      <td>1</td>\n",
       "      <td>3.20</td>\n",
       "      <td>1</td>\n",
       "      <td>N</td>\n",
       "      <td>138</td>\n",
       "      <td>129</td>\n",
       "      <td>1</td>\n",
       "      <td>13.0</td>\n",
       "      <td>0.5</td>\n",
       "      <td>0.5</td>\n",
       "      <td>2.85</td>\n",
       "      <td>0.0</td>\n",
       "      <td>0.3</td>\n",
       "      <td>17.15</td>\n",
       "      <td>0.0</td>\n",
       "    </tr>\n",
       "    <tr>\n",
       "      <th>4</th>\n",
       "      <td>2</td>\n",
       "      <td>04/21/2019 11:02:16 PM</td>\n",
       "      <td>04/21/2019 11:26:16 PM</td>\n",
       "      <td>1</td>\n",
       "      <td>11.70</td>\n",
       "      <td>1</td>\n",
       "      <td>N</td>\n",
       "      <td>138</td>\n",
       "      <td>87</td>\n",
       "      <td>1</td>\n",
       "      <td>33.5</td>\n",
       "      <td>0.5</td>\n",
       "      <td>0.5</td>\n",
       "      <td>5.00</td>\n",
       "      <td>0.0</td>\n",
       "      <td>0.3</td>\n",
       "      <td>42.30</td>\n",
       "      <td>2.5</td>\n",
       "    </tr>\n",
       "  </tbody>\n",
       "</table>\n",
       "</div>"
      ],
      "text/plain": [
       "  VendorID    tpep_pickup_datetime   tpep_dropoff_datetime  passenger_count  \\\n",
       "0        2  04/21/2019 11:22:07 PM  04/21/2019 11:28:15 PM                1   \n",
       "1        2  04/21/2019 11:51:32 PM  04/21/2019 11:59:41 PM                1   \n",
       "2        2  04/21/2019 09:54:40 PM  04/21/2019 10:04:16 PM                1   \n",
       "3        1  04/21/2019 11:27:19 PM  04/21/2019 11:39:45 PM                1   \n",
       "4        2  04/21/2019 11:02:16 PM  04/21/2019 11:26:16 PM                1   \n",
       "\n",
       "   trip_distance  RatecodeID store_and_fwd_flag  PULocationID  DOLocationID  \\\n",
       "0           0.92           1                  N           142           161   \n",
       "1           1.81           1                  N           186           249   \n",
       "2           1.68           1                  N           164            48   \n",
       "3           3.20           1                  N           138           129   \n",
       "4          11.70           1                  N           138            87   \n",
       "\n",
       "   payment_type  fare_amount  extra  mta_tax  tip_amount  tolls_amount  \\\n",
       "0             2          6.0    0.5      0.5        0.00           0.0   \n",
       "1             1          8.0    0.5      0.5        2.95           0.0   \n",
       "2             2          8.5    0.5      0.5        0.00           0.0   \n",
       "3             1         13.0    0.5      0.5        2.85           0.0   \n",
       "4             1         33.5    0.5      0.5        5.00           0.0   \n",
       "\n",
       "   improvement_surcharge  total_amount  congestion_surcharge  \n",
       "0                    0.3          9.80                   2.5  \n",
       "1                    0.3         14.75                   2.5  \n",
       "2                    0.3         12.30                   2.5  \n",
       "3                    0.3         17.15                   0.0  \n",
       "4                    0.3         42.30                   2.5  "
      ]
     },
     "execution_count": 5,
     "metadata": {},
     "output_type": "execute_result"
    }
   ],
   "source": [
    "yellow_19.limit(5).toPandas()"
   ]
  },
  {
   "cell_type": "code",
   "execution_count": 6,
   "id": "d7dfef01-d82b-4a0a-8ffe-2994a591cedc",
   "metadata": {},
   "outputs": [],
   "source": [
    "yellow_19 = yellow_19.withColumn('tpep_pickup_datetime', to_timestamp(col('tpep_pickup_datetime'), 'MM/dd/yyyy hh:mm:ss a'))\n",
    "yellow_19 = yellow_19.withColumn('tpep_dropoff_datetime', to_timestamp(col('tpep_dropoff_datetime'), 'MM/dd/yyyy hh:mm:ss a'))\n",
    "\n",
    "yellow_19 = yellow_19.filter(yellow_19.tpep_pickup_datetime.isNotNull())\n",
    "yellow_19 = yellow_19.filter(yellow_19.tpep_dropoff_datetime.isNotNull())\n",
    "\n",
    "yellow_19 = yellow_19.withColumn('trip_seconds',col(\"tpep_dropoff_datetime\").cast(\"long\") - col('tpep_pickup_datetime').cast(\"long\"))\n",
    "yellow_19 = yellow_19.withColumn('month', month(col('tpep_pickup_datetime')))\n",
    "\n",
    "yellow_19 = yellow_19.filter(yellow_19.trip_distance.isNotNull())\n",
    "yellow_19 = yellow_19.filter(yellow_19.total_amount.isNotNull())\n",
    "\n",
    "yellow_19 = yellow_19.select(\"month\",\"trip_seconds\", \"trip_distance\", \"total_amount\")"
   ]
  },
  {
   "cell_type": "code",
   "execution_count": 7,
   "id": "6c593f60-4a8a-4b36-8dc1-72d481d3641b",
   "metadata": {},
   "outputs": [
    {
     "data": {
      "text/html": [
       "<div>\n",
       "<style scoped>\n",
       "    .dataframe tbody tr th:only-of-type {\n",
       "        vertical-align: middle;\n",
       "    }\n",
       "\n",
       "    .dataframe tbody tr th {\n",
       "        vertical-align: top;\n",
       "    }\n",
       "\n",
       "    .dataframe thead th {\n",
       "        text-align: right;\n",
       "    }\n",
       "</style>\n",
       "<table border=\"1\" class=\"dataframe\">\n",
       "  <thead>\n",
       "    <tr style=\"text-align: right;\">\n",
       "      <th></th>\n",
       "      <th>month</th>\n",
       "      <th>trip_seconds</th>\n",
       "      <th>trip_distance</th>\n",
       "      <th>total_amount</th>\n",
       "    </tr>\n",
       "  </thead>\n",
       "  <tbody>\n",
       "    <tr>\n",
       "      <th>0</th>\n",
       "      <td>4</td>\n",
       "      <td>368</td>\n",
       "      <td>0.92</td>\n",
       "      <td>9.80</td>\n",
       "    </tr>\n",
       "    <tr>\n",
       "      <th>1</th>\n",
       "      <td>4</td>\n",
       "      <td>489</td>\n",
       "      <td>1.81</td>\n",
       "      <td>14.75</td>\n",
       "    </tr>\n",
       "    <tr>\n",
       "      <th>2</th>\n",
       "      <td>4</td>\n",
       "      <td>576</td>\n",
       "      <td>1.68</td>\n",
       "      <td>12.30</td>\n",
       "    </tr>\n",
       "    <tr>\n",
       "      <th>3</th>\n",
       "      <td>4</td>\n",
       "      <td>746</td>\n",
       "      <td>3.20</td>\n",
       "      <td>17.15</td>\n",
       "    </tr>\n",
       "    <tr>\n",
       "      <th>4</th>\n",
       "      <td>4</td>\n",
       "      <td>1440</td>\n",
       "      <td>11.70</td>\n",
       "      <td>42.30</td>\n",
       "    </tr>\n",
       "  </tbody>\n",
       "</table>\n",
       "</div>"
      ],
      "text/plain": [
       "   month  trip_seconds  trip_distance  total_amount\n",
       "0      4           368           0.92          9.80\n",
       "1      4           489           1.81         14.75\n",
       "2      4           576           1.68         12.30\n",
       "3      4           746           3.20         17.15\n",
       "4      4          1440          11.70         42.30"
      ]
     },
     "execution_count": 7,
     "metadata": {},
     "output_type": "execute_result"
    }
   ],
   "source": [
    "yellow_19.limit(5).toPandas()"
   ]
  },
  {
   "cell_type": "code",
   "execution_count": 8,
   "id": "b28c7764-60e8-4d86-88fc-f04c3afa17df",
   "metadata": {},
   "outputs": [],
   "source": [
    "train, validation, test = yellow_19.randomSplit([0.7, 0.15, 0.15])"
   ]
  },
  {
   "cell_type": "code",
   "execution_count": 9,
   "id": "d16bafdf-5f85-4826-b5b6-3b5d8cd5bce8",
   "metadata": {},
   "outputs": [
    {
     "data": {
      "text/plain": [
       "6676471"
      ]
     },
     "execution_count": 9,
     "metadata": {},
     "output_type": "execute_result"
    }
   ],
   "source": [
    "train.count()"
   ]
  },
  {
   "cell_type": "code",
   "execution_count": 10,
   "id": "6bc44606-abf3-4fc0-8d07-1be329e3e1ee",
   "metadata": {},
   "outputs": [
    {
     "data": {
      "text/plain": [
       "1431841"
      ]
     },
     "execution_count": 10,
     "metadata": {},
     "output_type": "execute_result"
    }
   ],
   "source": [
    "validation.count()"
   ]
  },
  {
   "cell_type": "code",
   "execution_count": 11,
   "id": "26fdf015-94e9-418c-8e7a-30dc7b564e31",
   "metadata": {},
   "outputs": [
    {
     "data": {
      "text/plain": [
       "1431669"
      ]
     },
     "execution_count": 11,
     "metadata": {},
     "output_type": "execute_result"
    }
   ],
   "source": [
    "test.count()"
   ]
  },
  {
   "cell_type": "code",
   "execution_count": 12,
   "id": "702dbe06-8fb4-48e6-a509-2868e8180981",
   "metadata": {},
   "outputs": [],
   "source": [
    "train = train.toPandas()"
   ]
  },
  {
   "cell_type": "code",
   "execution_count": 13,
   "id": "85ce0689-428e-40f8-8286-b45093c190c3",
   "metadata": {},
   "outputs": [],
   "source": [
    "validation = validation.toPandas()"
   ]
  },
  {
   "cell_type": "code",
   "execution_count": 14,
   "id": "9cdfe623-22d0-4e1d-a54d-2b01456ce9d0",
   "metadata": {},
   "outputs": [],
   "source": [
    "test = test.toPandas()"
   ]
  },
  {
   "cell_type": "code",
   "execution_count": 15,
   "id": "42d6f9fa-f254-44f6-b559-bcff37ee9fbe",
   "metadata": {},
   "outputs": [],
   "source": [
    "train.to_csv('2019_Yellow_Taxi_Trip_Data_training.csv')\n",
    "test.to_csv('2019_Yellow_Taxi_Trip_Data_test.csv')\n",
    "validation.to_csv('2019_Yellow_Taxi_Trip_Data_validation.csv')"
   ]
  },
  {
   "cell_type": "code",
   "execution_count": 16,
   "id": "0eb3de32-4d4c-408f-9ba5-f2d7da4003b2",
   "metadata": {},
   "outputs": [],
   "source": [
    "def streamer(chunk_size, file):\n",
    "    while True:\n",
    "        for data in pd.read_csv(file, chunksize=chunk_size):\n",
    "            data = data[data['trip_distance'].notna()]\n",
    "            data = data[data['trip_seconds'].notna()]\n",
    "            data = data[data['month'].notna()]\n",
    "            data = data[data['total_amount'].notna()]\n",
    "            x = data[['trip_distance', 'trip_seconds', 'month']].to_numpy()\n",
    "            y = data['total_amount'].to_numpy()\n",
    "            yield x, y"
   ]
  },
  {
   "cell_type": "markdown",
   "id": "858dc823-1ae2-411d-86bc-30399a617ab8",
   "metadata": {},
   "source": [
    "<h2> Neural network model with 2 hidden layers using mean absolute error as the loss metric"
   ]
  },
  {
   "cell_type": "code",
   "execution_count": 17,
   "id": "8278baa7-1ced-432b-9aa0-d9aca4b21fc9",
   "metadata": {},
   "outputs": [
    {
     "name": "stdout",
     "output_type": "stream",
     "text": [
      "Model: \"sequential\"\n",
      "_________________________________________________________________\n",
      "Layer (type)                 Output Shape              Param #   \n",
      "=================================================================\n",
      "dense (Dense)                (None, 16)                64        \n",
      "_________________________________________________________________\n",
      "dense_1 (Dense)              (None, 32)                544       \n",
      "_________________________________________________________________\n",
      "dense_2 (Dense)              (None, 32)                1056      \n",
      "_________________________________________________________________\n",
      "dense_3 (Dense)              (None, 1)                 33        \n",
      "=================================================================\n",
      "Total params: 1,697\n",
      "Trainable params: 1,697\n",
      "Non-trainable params: 0\n",
      "_________________________________________________________________\n",
      "Length of model weights 8\n"
     ]
    }
   ],
   "source": [
    "model = Sequential()\n",
    "\n",
    "model.add(Dense(16, kernel_initializer='normal',input_dim = 3, activation='relu')) # The Input Layer\n",
    "\n",
    "# The Hidden Layer\n",
    "model.add(Dense(32, kernel_initializer='normal',activation='relu'))\n",
    "model.add(Dense(32, kernel_initializer='normal',activation='relu'))\n",
    "\n",
    "model.add(Dense(1, kernel_initializer='normal',activation='linear')) # The Output Layer\n",
    "model.compile(loss='mean_absolute_error', optimizer='adam', metrics=['mean_absolute_error', 'mse'])\n",
    "model.summary()\n",
    "\n",
    "print(\"Length of model weights\", len(model.weights))"
   ]
  },
  {
   "cell_type": "code",
   "execution_count": 18,
   "id": "869ca1b1-d1a6-46c1-ab3a-7787142d4e08",
   "metadata": {},
   "outputs": [],
   "source": [
    "train_file = '2019_Yellow_Taxi_Trip_Data_training.csv'\n",
    "validation_file = '2019_Yellow_Taxi_Trip_Data_validation.csv'\n",
    "chunksize = 10000"
   ]
  },
  {
   "cell_type": "code",
   "execution_count": 19,
   "id": "95ca6ace-ab64-4b8d-8329-733c0b678328",
   "metadata": {},
   "outputs": [
    {
     "name": "stdout",
     "output_type": "stream",
     "text": [
      "Epoch 1/10\n",
      "667/667 - 12s - loss: 9.2701 - mean_absolute_error: 9.2701 - mse: 4964.4077 - val_loss: 7.3317 - val_mean_absolute_error: 7.3317 - val_mse: 113434.3750\n",
      "Epoch 2/10\n",
      "667/667 - 11s - loss: 5.9500 - mean_absolute_error: 5.9500 - mse: 2370.9753 - val_loss: 4.7578 - val_mean_absolute_error: 4.7578 - val_mse: 110440.9375\n",
      "Epoch 3/10\n",
      "667/667 - 11s - loss: 4.3914 - mean_absolute_error: 4.3914 - mse: 971.2531 - val_loss: 3.4427 - val_mean_absolute_error: 3.4427 - val_mse: 109663.3594\n",
      "Epoch 4/10\n",
      "667/667 - 10s - loss: 3.5467 - mean_absolute_error: 3.5467 - mse: 317.3943 - val_loss: 3.0971 - val_mean_absolute_error: 3.0971 - val_mse: 109626.8672\n",
      "Epoch 5/10\n",
      "667/667 - 10s - loss: 3.4533 - mean_absolute_error: 3.4533 - mse: 473.4158 - val_loss: 3.3394 - val_mean_absolute_error: 3.3394 - val_mse: 109632.3203\n",
      "Epoch 6/10\n",
      "667/667 - 10s - loss: 3.1412 - mean_absolute_error: 3.1412 - mse: 183.3856 - val_loss: 2.9065 - val_mean_absolute_error: 2.9065 - val_mse: 109623.6953\n",
      "Epoch 7/10\n",
      "667/667 - 10s - loss: 2.5256 - mean_absolute_error: 2.5256 - mse: 61.5256 - val_loss: 2.7732 - val_mean_absolute_error: 2.7732 - val_mse: 109621.1719\n",
      "Epoch 8/10\n",
      "667/667 - 10s - loss: 3.3256 - mean_absolute_error: 3.3256 - mse: 161.6179 - val_loss: 2.9586 - val_mean_absolute_error: 2.9586 - val_mse: 109626.5000\n",
      "Epoch 9/10\n",
      "667/667 - 10s - loss: 3.0275 - mean_absolute_error: 3.0275 - mse: 109.1154 - val_loss: 2.9199 - val_mean_absolute_error: 2.9199 - val_mse: 109622.0000\n",
      "Epoch 10/10\n",
      "667/667 - 10s - loss: 2.6658 - mean_absolute_error: 2.6658 - mse: 229.5842 - val_loss: 2.7135 - val_mean_absolute_error: 2.7135 - val_mse: 109618.8672\n"
     ]
    }
   ],
   "source": [
    "# Model runs with a streamer for both the train and validation sets for 10 epochs\n",
    "lengths = [6676699, 1432518]\n",
    "history = model.fit(streamer(chunksize, train_file),\n",
    "          steps_per_epoch=lengths[0]//chunksize,\n",
    "          epochs=10,\n",
    "          verbose=2,\n",
    "          validation_data=streamer(chunksize, validation_file), \n",
    "          validation_steps = lengths[1]//chunksize)"
   ]
  },
  {
   "cell_type": "code",
   "execution_count": 20,
   "id": "ed3fe0be-ade7-4b33-880e-36988360674b",
   "metadata": {},
   "outputs": [
    {
     "data": {
      "image/png": "[encoded data removed]",
      "text/plain": [
       "<Figure size 432x288 with 1 Axes>"
      ]
     },
     "metadata": {
      "needs_background": "light"
     },
     "output_type": "display_data"
    },
    {
     "data": {
      "text/plain": [
       "<Figure size 432x288 with 0 Axes>"
      ]
     },
     "metadata": {},
     "output_type": "display_data"
    }
   ],
   "source": [
    "# Plot of loss over each epoch\n",
    "plt.plot(history.history['loss'])\n",
    "plt.plot(history.history['val_loss'])\n",
    "plt.title('Model Loss')\n",
    "plt.ylabel('loss')\n",
    "plt.xlabel('epoch')\n",
    "plt.legend(['Train', 'Validation'], loc='upper left')\n",
    "plt.show()\n",
    "plt.savefig('2019_loss.png')"
   ]
  },
  {
   "cell_type": "code",
   "execution_count": 21,
   "id": "4ab0ea4e-3db0-48ec-a065-d5b6f5bd1f80",
   "metadata": {},
   "outputs": [],
   "source": [
    "# Test set\n",
    "test = pd.read_csv('2019_Yellow_Taxi_Trip_Data_test.csv')             \n",
    "x = test[['trip_distance', 'trip_seconds', 'month']]\n",
    "y = test['total_amount']"
   ]
  },
  {
   "cell_type": "code",
   "execution_count": 22,
   "id": "1840dace-6dae-4c3d-9fe2-4914f9c3ee6c",
   "metadata": {},
   "outputs": [],
   "source": [
    "# Saving model in a H5py format\n",
    "model.save('models/model_2019.h5')"
   ]
  },
  {
   "cell_type": "code",
   "execution_count": 23,
   "id": "5bab39b0-e142-4580-a920-40e9a2f13c7f",
   "metadata": {},
   "outputs": [],
   "source": [
    "# Predicting values using test set\n",
    "predictions = model.predict(x)"
   ]
  },
  {
   "cell_type": "code",
   "execution_count": 24,
   "id": "f89a7b06-2b82-409a-b6d2-1bdec6160b5b",
   "metadata": {},
   "outputs": [
    {
     "name": "stdout",
     "output_type": "stream",
     "text": [
      "44740/44740 [==============================] - 39s 862us/step - loss: 0.0000e+00 - mean_absolute_error: 0.0000e+00 - mse: 0.0000e+00\n"
     ]
    },
    {
     "data": {
      "text/plain": [
       "[0.0, 0.0, 0.0]"
      ]
     },
     "execution_count": 24,
     "metadata": {},
     "output_type": "execute_result"
    }
   ],
   "source": [
    "# Evaluating model using test data\n",
    "model.evaluate(x)"
   ]
  },
  {
   "cell_type": "code",
   "execution_count": 25,
   "id": "24eaf86a-391c-4d76-88e3-ff799f1e2da6",
   "metadata": {},
   "outputs": [
    {
     "name": "stderr",
     "output_type": "stream",
     "text": [
      "/koko/system/anaconda/envs/python39/lib/python3.9/site-packages/numpy/core/_asarray.py:136: VisibleDeprecationWarning: Creating an ndarray from ragged nested sequences (which is a list-or-tuple of lists-or-tuples-or ndarrays with different lengths or shapes) is deprecated. If you meant to do this, you must specify 'dtype=object' when creating the ndarray\n",
      "  return array(a, dtype, copy=False, order=order, subok=True)\n"
     ]
    },
    {
     "data": {
      "image/png": "[encoded data removed]",
      "text/plain": [
       "<Figure size 720x720 with 1 Axes>"
      ]
     },
     "metadata": {
      "needs_background": "light"
     },
     "output_type": "display_data"
    }
   ],
   "source": [
    "# Plot of actual vs predicted values\n",
    "y = y.to_numpy()\n",
    "plt.figure(figsize=(10,10))\n",
    "plt.scatter(y, predictions, c='crimson')\n",
    "\n",
    "\n",
    "p1 = max(max(predictions), max(y))\n",
    "p2 = min(min(predictions), min(y))\n",
    "plt.plot([p1, p2], [p1, p2], 'b-')\n",
    "plt.xlabel('Actual Values', fontsize=15)\n",
    "plt.ylabel('Predicted Values', fontsize=15)\n",
    "plt.xlim(0,100)\n",
    "plt.ylim(0,100)\n",
    "plt.show()"
   ]
  }
 ],
 "metadata": {
  "kernelspec": {
   "display_name": "Spark 3 in Python 3",
   "language": "python",
   "name": "pyspark3"
  },
  "language_info": {
   "codemirror_mode": {
    "name": "ipython",
    "version": 3
   },
   "file_extension": ".py",
   "mimetype": "text/x-python",
   "name": "python",
   "nbconvert_exporter": "python",
   "pygments_lexer": "ipython3",
   "version": "3.9.5"
  }
 },
 "nbformat": 4,
 "nbformat_minor": 5
}
