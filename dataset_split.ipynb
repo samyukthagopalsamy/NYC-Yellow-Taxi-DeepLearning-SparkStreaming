{
 "cells": [
  {
   "cell_type": "code",
   "execution_count": 1,
   "id": "71882dca-103d-48fa-a118-ad5f44d71028",
   "metadata": {},
   "outputs": [],
   "source": [
    "import pandas as pd\n",
    "import numpy as np"
   ]
  },
  {
   "cell_type": "code",
   "execution_count": 8,
   "id": "e7d45044-9914-4039-9a91-f8c27880f1b4",
   "metadata": {},
   "outputs": [
    {
     "name": "stderr",
     "output_type": "stream",
     "text": [
      "/koko/system/anaconda/envs/python38/lib/python3.8/site-packages/IPython/core/interactiveshell.py:3165: DtypeWarning: Columns (0) have mixed types.Specify dtype option on import or set low_memory=False.\n",
      "  has_raised = await self.run_ast_nodes(code_ast.body, cell_name,\n",
      "/koko/system/anaconda/envs/python38/lib/python3.8/site-packages/IPython/core/interactiveshell.py:3165: DtypeWarning: Columns (6) have mixed types.Specify dtype option on import or set low_memory=False.\n",
      "  has_raised = await self.run_ast_nodes(code_ast.body, cell_name,\n"
     ]
    }
   ],
   "source": [
    "yellow_19 = pd.read_csv('source/2019_Yellow_Taxi_Trip_Data.csv')\n",
    "yellow_20 = pd.read_csv('source/2020_Yellow_Taxi_Trip_Data.csv')\n",
    "yellow_21 = pd.read_csv('source/2021_Yellow_Taxi_Trip_Data.csv')"
   ]
  },
  {
   "cell_type": "code",
   "execution_count": 12,
   "id": "8da22930-18e4-461b-94d0-a31528cdf158",
   "metadata": {},
   "outputs": [
    {
     "data": {
      "text/plain": [
       "VendorID                 9539986\n",
       "tpep_pickup_datetime     9539982\n",
       "tpep_dropoff_datetime    9539981\n",
       "passenger_count          9539981\n",
       "trip_distance            9539981\n",
       "RatecodeID               9539981\n",
       "store_and_fwd_flag       9539981\n",
       "PULocationID             9539981\n",
       "DOLocationID             9539981\n",
       "payment_type             9539981\n",
       "fare_amount              9539981\n",
       "extra                    9539981\n",
       "mta_tax                  9539981\n",
       "tip_amount               9539981\n",
       "tolls_amount             9539981\n",
       "improvement_surcharge    9539981\n",
       "total_amount             9539981\n",
       "congestion_surcharge     9539981\n",
       "dtype: int64"
      ]
     },
     "execution_count": 12,
     "metadata": {},
     "output_type": "execute_result"
    }
   ],
   "source": [
    "yellow_19.count()"
   ]
  },
  {
   "cell_type": "code",
   "execution_count": 13,
   "id": "9121ae24-0135-4dbf-bbf5-f8fb7d7d2c59",
   "metadata": {},
   "outputs": [
    {
     "data": {
      "text/plain": [
       "VendorID                 23838931\n",
       "tpep_pickup_datetime     24648499\n",
       "tpep_dropoff_datetime    24648499\n",
       "passenger_count          23838931\n",
       "trip_distance            24648499\n",
       "RatecodeID               23838931\n",
       "store_and_fwd_flag       23838931\n",
       "PULocationID             24648499\n",
       "DOLocationID             24648499\n",
       "payment_type             23838931\n",
       "fare_amount              24648499\n",
       "extra                    24648499\n",
       "mta_tax                  24648499\n",
       "tip_amount               24648499\n",
       "tolls_amount             24648499\n",
       "improvement_surcharge    24648499\n",
       "total_amount             24648499\n",
       "congestion_surcharge     24648499\n",
       "dtype: int64"
      ]
     },
     "execution_count": 13,
     "metadata": {},
     "output_type": "execute_result"
    }
   ],
   "source": [
    "yellow_20.count()"
   ]
  },
  {
   "cell_type": "code",
   "execution_count": 11,
   "id": "ee9c7ab2-4d82-4d22-9685-53a1294d3451",
   "metadata": {},
   "outputs": [
    {
     "data": {
      "text/plain": [
       "VendorID                 30070044\n",
       "tpep_pickup_datetime     30904072\n",
       "tpep_dropoff_datetime    30904072\n",
       "passenger_count          29425377\n",
       "trip_distance            30904072\n",
       "RatecodeID               29425377\n",
       "store_and_fwd_flag       29425377\n",
       "PULocationID             30904072\n",
       "DOLocationID             30904072\n",
       "payment_type             30070044\n",
       "fare_amount              30904072\n",
       "extra                    30904072\n",
       "mta_tax                  30904072\n",
       "tip_amount               30904072\n",
       "tolls_amount             30904072\n",
       "improvement_surcharge    30904072\n",
       "total_amount             30904072\n",
       "congestion_surcharge     30259405\n",
       "dtype: int64"
      ]
     },
     "execution_count": 11,
     "metadata": {},
     "output_type": "execute_result"
    }
   ],
   "source": [
    "yellow_21.count()"
   ]
  },
  {
   "cell_type": "code",
   "execution_count": 15,
   "id": "9cd4063f-4558-4f86-bc29-998e475a8609",
   "metadata": {},
   "outputs": [],
   "source": [
    "#70% of dataset for training and 30% testing\n",
    "yellow_19['split'] = np.random.randn(yellow_19.shape[0], 1)\n",
    "\n",
    "mask = np.random.rand(len(yellow_19)) <= 0.7\n",
    "train = yellow_19[mask]\n",
    "testing = yellow_19[~mask]\n",
    "\n",
    "mask = np.random.rand(len(testing)) <= 0.5\n",
    "test = testing[mask]\n",
    "validation = testing[~mask]\n",
    "\n",
    "train.to_csv('source/2019_Yellow_Taxi_Trip_Data_training.csv')\n",
    "test.to_csv('source/2019_Yellow_Taxi_Trip_Data_test.csv')\n",
    "validation.to_csv('source/2019_Yellow_Taxi_Trip_Data_validation.csv')"
   ]
  },
  {
   "cell_type": "code",
   "execution_count": 16,
   "id": "ecf4bbc9-02ed-4072-a31f-540f72a6aecb",
   "metadata": {},
   "outputs": [],
   "source": [
    "#70% of dataset for training and 30% testing\n",
    "yellow_20['split'] = np.random.randn(yellow_20.shape[0], 1)\n",
    "\n",
    "mask = np.random.rand(len(yellow_20)) <= 0.7\n",
    "train = yellow_20[mask]\n",
    "testing = yellow_20[~mask]\n",
    "\n",
    "mask = np.random.rand(len(testing)) <= 0.5\n",
    "test = testing[mask]\n",
    "validation = testing[~mask]\n",
    "\n",
    "train.to_csv('source/2020_Yellow_Taxi_Trip_Data_training.csv')\n",
    "test.to_csv('source/2020_Yellow_Taxi_Trip_Data_test.csv')\n",
    "validation.to_csv('source/2020_Yellow_Taxi_Trip_Data_validation.csv')"
   ]
  },
  {
   "cell_type": "code",
   "execution_count": 17,
   "id": "bb2148ae-e621-4bca-b39f-d7c212bc4bf4",
   "metadata": {},
   "outputs": [],
   "source": [
    "#70% of dataset for training and 30% testing\n",
    "yellow_21['split'] = np.random.randn(yellow_21.shape[0], 1)\n",
    "\n",
    "mask = np.random.rand(len(yellow_21)) <= 0.7\n",
    "train = yellow_21[mask]\n",
    "testing = yellow_21[~mask]\n",
    "\n",
    "mask = np.random.rand(len(testing)) <= 0.5\n",
    "test = testing[mask]\n",
    "validation = testing[~mask]\n",
    "\n",
    "train.to_csv('source/2021_Yellow_Taxi_Trip_Data_training.csv')\n",
    "test.to_csv('source/2021_Yellow_Taxi_Trip_Data_test.csv')\n",
    "validation.to_csv('source/2021_Yellow_Taxi_Trip_Data_validation.csv')"
   ]
  }
 ],
 "metadata": {
  "kernelspec": {
   "display_name": "Spark 3 in Python 3",
   "language": "python",
   "name": "pyspark3"
  },
  "language_info": {
   "codemirror_mode": {
    "name": "ipython",
    "version": 3
   },
   "file_extension": ".py",
   "mimetype": "text/x-python",
   "name": "python",
   "nbconvert_exporter": "python",
   "pygments_lexer": "ipython3",
   "version": "3.8.10"
  }
 },
 "nbformat": 4,
 "nbformat_minor": 5
}
