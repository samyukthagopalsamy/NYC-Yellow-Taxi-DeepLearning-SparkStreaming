{
 "cells": [
  {
   "cell_type": "code",
   "execution_count": 1,
   "id": "8d35a2f2-b711-4e22-9d7b-012a0e6f3a81",
   "metadata": {},
   "outputs": [],
   "source": [
    "import pandas as pd\n",
    "import numpy as np\n",
    "from pyspark.sql.functions import col, to_timestamp, month\n",
    "import matplotlib.pyplot as plt\n",
    "import tensorflow as tf\n",
    "from tensorflow import keras\n",
    "from tensorflow.keras.models import Sequential\n",
    "from tensorflow.keras.layers import Dense"
   ]
  },
  {
   "cell_type": "code",
   "execution_count": 2,
   "id": "501702fc-ea0b-4d37-9ccc-4e00174b19b1",
   "metadata": {},
   "outputs": [],
   "source": [
    "yellow_20 = spark.read.load('2020_Yellow_Taxi_Trip_Data.csv',format='csv', sep=',', inferSchema='true', header='true')"
   ]
  },
  {
   "cell_type": "code",
   "execution_count": 3,
   "id": "2c0c916a-983a-40b2-a92a-affa04069ef1",
   "metadata": {},
   "outputs": [
    {
     "data": {
      "text/plain": [
       "24648499"
      ]
     },
     "execution_count": 3,
     "metadata": {},
     "output_type": "execute_result"
    }
   ],
   "source": [
    "yellow_20.count()"
   ]
  },
  {
   "cell_type": "code",
   "execution_count": 4,
   "id": "fa7b950a-153f-4d70-8133-182c1f5a7695",
   "metadata": {},
   "outputs": [
    {
     "name": "stdout",
     "output_type": "stream",
     "text": [
      "root\n",
      " |-- VendorID: integer (nullable = true)\n",
      " |-- tpep_pickup_datetime: string (nullable = true)\n",
      " |-- tpep_dropoff_datetime: string (nullable = true)\n",
      " |-- passenger_count: integer (nullable = true)\n",
      " |-- trip_distance: double (nullable = true)\n",
      " |-- RatecodeID: integer (nullable = true)\n",
      " |-- store_and_fwd_flag: string (nullable = true)\n",
      " |-- PULocationID: integer (nullable = true)\n",
      " |-- DOLocationID: integer (nullable = true)\n",
      " |-- payment_type: integer (nullable = true)\n",
      " |-- fare_amount: double (nullable = true)\n",
      " |-- extra: double (nullable = true)\n",
      " |-- mta_tax: double (nullable = true)\n",
      " |-- tip_amount: double (nullable = true)\n",
      " |-- tolls_amount: double (nullable = true)\n",
      " |-- improvement_surcharge: double (nullable = true)\n",
      " |-- total_amount: double (nullable = true)\n",
      " |-- congestion_surcharge: double (nullable = true)\n",
      "\n"
     ]
    }
   ],
   "source": [
    "yellow_20.printSchema()"
   ]
  },
  {
   "cell_type": "code",
   "execution_count": 5,
   "id": "bc378ee6-6c02-49fc-bcd1-b48116cbae2f",
   "metadata": {},
   "outputs": [
    {
     "data": {
      "text/html": [
       "<div>\n",
       "<style scoped>\n",
       "    .dataframe tbody tr th:only-of-type {\n",
       "        vertical-align: middle;\n",
       "    }\n",
       "\n",
       "    .dataframe tbody tr th {\n",
       "        vertical-align: top;\n",
       "    }\n",
       "\n",
       "    .dataframe thead th {\n",
       "        text-align: right;\n",
       "    }\n",
       "</style>\n",
       "<table border=\"1\" class=\"dataframe\">\n",
       "  <thead>\n",
       "    <tr style=\"text-align: right;\">\n",
       "      <th></th>\n",
       "      <th>VendorID</th>\n",
       "      <th>tpep_pickup_datetime</th>\n",
       "      <th>tpep_dropoff_datetime</th>\n",
       "      <th>passenger_count</th>\n",
       "      <th>trip_distance</th>\n",
       "      <th>RatecodeID</th>\n",
       "      <th>store_and_fwd_flag</th>\n",
       "      <th>PULocationID</th>\n",
       "      <th>DOLocationID</th>\n",
       "      <th>payment_type</th>\n",
       "      <th>fare_amount</th>\n",
       "      <th>extra</th>\n",
       "      <th>mta_tax</th>\n",
       "      <th>tip_amount</th>\n",
       "      <th>tolls_amount</th>\n",
       "      <th>improvement_surcharge</th>\n",
       "      <th>total_amount</th>\n",
       "      <th>congestion_surcharge</th>\n",
       "    </tr>\n",
       "  </thead>\n",
       "  <tbody>\n",
       "    <tr>\n",
       "      <th>0</th>\n",
       "      <td>1</td>\n",
       "      <td>01/01/2020 12:28:15 AM</td>\n",
       "      <td>01/01/2020 12:33:03 AM</td>\n",
       "      <td>1</td>\n",
       "      <td>1.2</td>\n",
       "      <td>1</td>\n",
       "      <td>N</td>\n",
       "      <td>238</td>\n",
       "      <td>239</td>\n",
       "      <td>1</td>\n",
       "      <td>6.0</td>\n",
       "      <td>3.0</td>\n",
       "      <td>0.5</td>\n",
       "      <td>1.47</td>\n",
       "      <td>0.0</td>\n",
       "      <td>0.3</td>\n",
       "      <td>11.27</td>\n",
       "      <td>2.5</td>\n",
       "    </tr>\n",
       "    <tr>\n",
       "      <th>1</th>\n",
       "      <td>1</td>\n",
       "      <td>01/01/2020 12:35:39 AM</td>\n",
       "      <td>01/01/2020 12:43:04 AM</td>\n",
       "      <td>1</td>\n",
       "      <td>1.2</td>\n",
       "      <td>1</td>\n",
       "      <td>N</td>\n",
       "      <td>239</td>\n",
       "      <td>238</td>\n",
       "      <td>1</td>\n",
       "      <td>7.0</td>\n",
       "      <td>3.0</td>\n",
       "      <td>0.5</td>\n",
       "      <td>1.50</td>\n",
       "      <td>0.0</td>\n",
       "      <td>0.3</td>\n",
       "      <td>12.30</td>\n",
       "      <td>2.5</td>\n",
       "    </tr>\n",
       "    <tr>\n",
       "      <th>2</th>\n",
       "      <td>1</td>\n",
       "      <td>01/01/2020 12:47:41 AM</td>\n",
       "      <td>01/01/2020 12:53:52 AM</td>\n",
       "      <td>1</td>\n",
       "      <td>0.6</td>\n",
       "      <td>1</td>\n",
       "      <td>N</td>\n",
       "      <td>238</td>\n",
       "      <td>238</td>\n",
       "      <td>1</td>\n",
       "      <td>6.0</td>\n",
       "      <td>3.0</td>\n",
       "      <td>0.5</td>\n",
       "      <td>1.00</td>\n",
       "      <td>0.0</td>\n",
       "      <td>0.3</td>\n",
       "      <td>10.80</td>\n",
       "      <td>2.5</td>\n",
       "    </tr>\n",
       "    <tr>\n",
       "      <th>3</th>\n",
       "      <td>1</td>\n",
       "      <td>01/01/2020 12:55:23 AM</td>\n",
       "      <td>01/01/2020 01:00:14 AM</td>\n",
       "      <td>1</td>\n",
       "      <td>0.8</td>\n",
       "      <td>1</td>\n",
       "      <td>N</td>\n",
       "      <td>238</td>\n",
       "      <td>151</td>\n",
       "      <td>1</td>\n",
       "      <td>5.5</td>\n",
       "      <td>0.5</td>\n",
       "      <td>0.5</td>\n",
       "      <td>1.36</td>\n",
       "      <td>0.0</td>\n",
       "      <td>0.3</td>\n",
       "      <td>8.16</td>\n",
       "      <td>0.0</td>\n",
       "    </tr>\n",
       "    <tr>\n",
       "      <th>4</th>\n",
       "      <td>2</td>\n",
       "      <td>01/01/2020 12:01:58 AM</td>\n",
       "      <td>01/01/2020 12:04:16 AM</td>\n",
       "      <td>1</td>\n",
       "      <td>0.0</td>\n",
       "      <td>1</td>\n",
       "      <td>N</td>\n",
       "      <td>193</td>\n",
       "      <td>193</td>\n",
       "      <td>2</td>\n",
       "      <td>3.5</td>\n",
       "      <td>0.5</td>\n",
       "      <td>0.5</td>\n",
       "      <td>0.00</td>\n",
       "      <td>0.0</td>\n",
       "      <td>0.3</td>\n",
       "      <td>4.80</td>\n",
       "      <td>0.0</td>\n",
       "    </tr>\n",
       "  </tbody>\n",
       "</table>\n",
       "</div>"
      ],
      "text/plain": [
       "   VendorID    tpep_pickup_datetime   tpep_dropoff_datetime  passenger_count  \\\n",
       "0         1  01/01/2020 12:28:15 AM  01/01/2020 12:33:03 AM                1   \n",
       "1         1  01/01/2020 12:35:39 AM  01/01/2020 12:43:04 AM                1   \n",
       "2         1  01/01/2020 12:47:41 AM  01/01/2020 12:53:52 AM                1   \n",
       "3         1  01/01/2020 12:55:23 AM  01/01/2020 01:00:14 AM                1   \n",
       "4         2  01/01/2020 12:01:58 AM  01/01/2020 12:04:16 AM                1   \n",
       "\n",
       "   trip_distance  RatecodeID store_and_fwd_flag  PULocationID  DOLocationID  \\\n",
       "0            1.2           1                  N           238           239   \n",
       "1            1.2           1                  N           239           238   \n",
       "2            0.6           1                  N           238           238   \n",
       "3            0.8           1                  N           238           151   \n",
       "4            0.0           1                  N           193           193   \n",
       "\n",
       "   payment_type  fare_amount  extra  mta_tax  tip_amount  tolls_amount  \\\n",
       "0             1          6.0    3.0      0.5        1.47           0.0   \n",
       "1             1          7.0    3.0      0.5        1.50           0.0   \n",
       "2             1          6.0    3.0      0.5        1.00           0.0   \n",
       "3             1          5.5    0.5      0.5        1.36           0.0   \n",
       "4             2          3.5    0.5      0.5        0.00           0.0   \n",
       "\n",
       "   improvement_surcharge  total_amount  congestion_surcharge  \n",
       "0                    0.3         11.27                   2.5  \n",
       "1                    0.3         12.30                   2.5  \n",
       "2                    0.3         10.80                   2.5  \n",
       "3                    0.3          8.16                   0.0  \n",
       "4                    0.3          4.80                   0.0  "
      ]
     },
     "execution_count": 5,
     "metadata": {},
     "output_type": "execute_result"
    }
   ],
   "source": [
    "yellow_20.limit(5).toPandas()"
   ]
  },
  {
   "cell_type": "code",
   "execution_count": 6,
   "id": "5f27a5f1-a0df-490d-9efc-c739cb183f00",
   "metadata": {},
   "outputs": [],
   "source": [
    "yellow_20 = yellow_20.withColumn('tpep_pickup_datetime', to_timestamp(col('tpep_pickup_datetime'), 'MM/dd/yyyy hh:mm:ss a'))\n",
    "yellow_20 = yellow_20.withColumn('tpep_dropoff_datetime', to_timestamp(col('tpep_dropoff_datetime'), 'MM/dd/yyyy hh:mm:ss a'))\n",
    "\n",
    "yellow_20 = yellow_20.filter(yellow_20.tpep_pickup_datetime.isNotNull())\n",
    "yellow_20 = yellow_20.filter(yellow_20.tpep_dropoff_datetime.isNotNull())\n",
    "\n",
    "yellow_20 = yellow_20.withColumn('trip_seconds',col(\"tpep_dropoff_datetime\").cast(\"long\") - col('tpep_pickup_datetime').cast(\"long\"))\n",
    "yellow_20 = yellow_20.withColumn('month', month(col('tpep_pickup_datetime')))\n",
    "\n",
    "yellow_20 = yellow_20.filter(yellow_20.trip_distance.isNotNull())\n",
    "yellow_20 = yellow_20.filter(yellow_20.total_amount.isNotNull())\n",
    "\n",
    "yellow_20 = yellow_20.select(\"month\",\"trip_seconds\", \"trip_distance\", \"total_amount\")"
   ]
  },
  {
   "cell_type": "code",
   "execution_count": 7,
   "id": "1f7b6e77-7dbd-4f8f-be55-e4b3d4ea7369",
   "metadata": {},
   "outputs": [
    {
     "data": {
      "text/html": [
       "<div>\n",
       "<style scoped>\n",
       "    .dataframe tbody tr th:only-of-type {\n",
       "        vertical-align: middle;\n",
       "    }\n",
       "\n",
       "    .dataframe tbody tr th {\n",
       "        vertical-align: top;\n",
       "    }\n",
       "\n",
       "    .dataframe thead th {\n",
       "        text-align: right;\n",
       "    }\n",
       "</style>\n",
       "<table border=\"1\" class=\"dataframe\">\n",
       "  <thead>\n",
       "    <tr style=\"text-align: right;\">\n",
       "      <th></th>\n",
       "      <th>month</th>\n",
       "      <th>trip_seconds</th>\n",
       "      <th>trip_distance</th>\n",
       "      <th>total_amount</th>\n",
       "    </tr>\n",
       "  </thead>\n",
       "  <tbody>\n",
       "    <tr>\n",
       "      <th>0</th>\n",
       "      <td>1</td>\n",
       "      <td>288</td>\n",
       "      <td>1.2</td>\n",
       "      <td>11.27</td>\n",
       "    </tr>\n",
       "    <tr>\n",
       "      <th>1</th>\n",
       "      <td>1</td>\n",
       "      <td>445</td>\n",
       "      <td>1.2</td>\n",
       "      <td>12.30</td>\n",
       "    </tr>\n",
       "    <tr>\n",
       "      <th>2</th>\n",
       "      <td>1</td>\n",
       "      <td>371</td>\n",
       "      <td>0.6</td>\n",
       "      <td>10.80</td>\n",
       "    </tr>\n",
       "    <tr>\n",
       "      <th>3</th>\n",
       "      <td>1</td>\n",
       "      <td>291</td>\n",
       "      <td>0.8</td>\n",
       "      <td>8.16</td>\n",
       "    </tr>\n",
       "    <tr>\n",
       "      <th>4</th>\n",
       "      <td>1</td>\n",
       "      <td>138</td>\n",
       "      <td>0.0</td>\n",
       "      <td>4.80</td>\n",
       "    </tr>\n",
       "  </tbody>\n",
       "</table>\n",
       "</div>"
      ],
      "text/plain": [
       "   month  trip_seconds  trip_distance  total_amount\n",
       "0      1           288            1.2         11.27\n",
       "1      1           445            1.2         12.30\n",
       "2      1           371            0.6         10.80\n",
       "3      1           291            0.8          8.16\n",
       "4      1           138            0.0          4.80"
      ]
     },
     "execution_count": 7,
     "metadata": {},
     "output_type": "execute_result"
    }
   ],
   "source": [
    "yellow_20.limit(5).toPandas()"
   ]
  },
  {
   "cell_type": "code",
   "execution_count": 8,
   "id": "f18f68ec-d07f-4757-9f6f-f85c72d0d3d5",
   "metadata": {},
   "outputs": [],
   "source": [
    "train, validation, test = yellow_20.randomSplit([0.7, 0.15, 0.15])"
   ]
  },
  {
   "cell_type": "code",
   "execution_count": 9,
   "id": "a4bacfb9-8eb5-4e34-a69b-3df969a2234f",
   "metadata": {},
   "outputs": [
    {
     "data": {
      "text/plain": [
       "17251904"
      ]
     },
     "execution_count": 9,
     "metadata": {},
     "output_type": "execute_result"
    }
   ],
   "source": [
    "train.count()"
   ]
  },
  {
   "cell_type": "code",
   "execution_count": 10,
   "id": "1f9720b4-015c-4655-81cb-2b59aca0e167",
   "metadata": {},
   "outputs": [
    {
     "data": {
      "text/plain": [
       "3699252"
      ]
     },
     "execution_count": 10,
     "metadata": {},
     "output_type": "execute_result"
    }
   ],
   "source": [
    "validation.count()"
   ]
  },
  {
   "cell_type": "code",
   "execution_count": 11,
   "id": "05471fa3-2ef6-4b7b-8c28-5239ad48da03",
   "metadata": {},
   "outputs": [
    {
     "data": {
      "text/plain": [
       "3697343"
      ]
     },
     "execution_count": 11,
     "metadata": {},
     "output_type": "execute_result"
    }
   ],
   "source": [
    "test.count()"
   ]
  },
  {
   "cell_type": "code",
   "execution_count": 12,
   "id": "69b036ea-ac76-4026-97f0-02e3c0176b7f",
   "metadata": {},
   "outputs": [],
   "source": [
    "train = train.toPandas()"
   ]
  },
  {
   "cell_type": "code",
   "execution_count": 13,
   "id": "945033e7-a215-4826-b24e-69c141327655",
   "metadata": {},
   "outputs": [],
   "source": [
    "validation = validation.toPandas()"
   ]
  },
  {
   "cell_type": "code",
   "execution_count": 14,
   "id": "1f266f50-24d1-4a8d-8dbc-8ded3f71e14a",
   "metadata": {},
   "outputs": [],
   "source": [
    "test = test.toPandas()"
   ]
  },
  {
   "cell_type": "code",
   "execution_count": 15,
   "id": "f6455d77-3462-4029-b4b0-43df48715f38",
   "metadata": {},
   "outputs": [],
   "source": [
    "train.to_csv('2020_Yellow_Taxi_Trip_Data_training.csv')\n",
    "test.to_csv('2020_Yellow_Taxi_Trip_Data_test.csv')\n",
    "validation.to_csv('2020_Yellow_Taxi_Trip_Data_validation.csv')"
   ]
  },
  {
   "cell_type": "code",
   "execution_count": 16,
   "id": "d0b018f5-598d-46ed-b86f-ca69961bc8dc",
   "metadata": {},
   "outputs": [],
   "source": [
    "def streamer(chunk_size, file):\n",
    "    while True:\n",
    "        for data in pd.read_csv(file, chunksize=chunk_size):\n",
    "            data = data[data['trip_distance'].notna()]\n",
    "            data = data[data['trip_seconds'].notna()]\n",
    "            data = data[data['month'].notna()]\n",
    "            data = data[data['total_amount'].notna()]\n",
    "            x = data[['trip_distance', 'trip_seconds', 'month']].to_numpy()\n",
    "            y = data['total_amount'].to_numpy()\n",
    "            yield x, y"
   ]
  },
  {
   "cell_type": "code",
   "execution_count": 17,
   "id": "3d54a960-9ec3-4741-9156-cda12199e971",
   "metadata": {},
   "outputs": [
    {
     "name": "stdout",
     "output_type": "stream",
     "text": [
      "Model: \"sequential\"\n",
      "_________________________________________________________________\n",
      "Layer (type)                 Output Shape              Param #   \n",
      "=================================================================\n",
      "dense (Dense)                (None, 16)                64        \n",
      "_________________________________________________________________\n",
      "dense_1 (Dense)              (None, 32)                544       \n",
      "_________________________________________________________________\n",
      "dense_2 (Dense)              (None, 32)                1056      \n",
      "_________________________________________________________________\n",
      "dense_3 (Dense)              (None, 1)                 33        \n",
      "=================================================================\n",
      "Total params: 1,697\n",
      "Trainable params: 1,697\n",
      "Non-trainable params: 0\n",
      "_________________________________________________________________\n"
     ]
    }
   ],
   "source": [
    "# Neural network model with 2 hidden layers using mean absolute error as the loss metric\n",
    "model = Sequential()\n",
    "\n",
    "model.add(Dense(16, kernel_initializer='normal',input_dim = 3, activation='relu')) # The Input Layer\n",
    "\n",
    "# The Hidden Layer\n",
    "model.add(Dense(32, kernel_initializer='normal',activation='relu'))\n",
    "model.add(Dense(32, kernel_initializer='normal',activation='relu'))\n",
    "\n",
    "model.add(Dense(1, kernel_initializer='normal',activation='linear')) # The Output Layer\n",
    "model.compile(loss='mean_absolute_error', optimizer='adam', metrics=['mean_absolute_error', 'mse'])\n",
    "model.summary()"
   ]
  },
  {
   "cell_type": "code",
   "execution_count": 18,
   "id": "064d22b6-10d4-4cf0-ac4c-2344de676a19",
   "metadata": {},
   "outputs": [],
   "source": [
    "train_file = '2020_Yellow_Taxi_Trip_Data_training.csv'\n",
    "validation_file = '2020_Yellow_Taxi_Trip_Data_validation.csv'\n",
    "chunksize = 10000"
   ]
  },
  {
   "cell_type": "code",
   "execution_count": 20,
   "id": "01543674-cdde-405a-9a8f-6a77f0ebbf67",
   "metadata": {},
   "outputs": [
    {
     "name": "stdout",
     "output_type": "stream",
     "text": [
      "Epoch 1/10\n",
      "667/667 - 10s - loss: 8.6945 - mean_absolute_error: 8.6945 - mse: 4118.8667 - val_loss: 7.5813 - val_mean_absolute_error: 7.5813 - val_mse: 5612.0991\n",
      "Epoch 2/10\n",
      "667/667 - 10s - loss: 7.8185 - mean_absolute_error: 7.8185 - mse: 222202.9844 - val_loss: 7.0964 - val_mean_absolute_error: 7.0964 - val_mse: 131765.3906\n",
      "Epoch 3/10\n",
      "667/667 - 9s - loss: 7.1901 - mean_absolute_error: 7.1901 - mse: 179097.1875 - val_loss: 7.5703 - val_mean_absolute_error: 7.5703 - val_mse: 3066.6270\n",
      "Epoch 4/10\n",
      "667/667 - 9s - loss: 5.7271 - mean_absolute_error: 5.7271 - mse: 2556.9353 - val_loss: 5.4844 - val_mean_absolute_error: 5.4844 - val_mse: 6858.5093\n",
      "Epoch 5/10\n",
      "667/667 - 9s - loss: 5.9109 - mean_absolute_error: 5.9109 - mse: 375390.4062 - val_loss: 5.7980 - val_mean_absolute_error: 5.7980 - val_mse: 135902.1250\n",
      "Epoch 6/10\n",
      "667/667 - 9s - loss: 6.0552 - mean_absolute_error: 6.0552 - mse: 25291.8398 - val_loss: 6.0827 - val_mean_absolute_error: 6.0827 - val_mse: 13842.7041\n",
      "Epoch 7/10\n",
      "667/667 - 9s - loss: 4.7144 - mean_absolute_error: 4.7144 - mse: 222082.4844 - val_loss: 4.3305 - val_mean_absolute_error: 4.3305 - val_mse: 129160.7891\n",
      "Epoch 8/10\n",
      "667/667 - 10s - loss: 3.8911 - mean_absolute_error: 3.8911 - mse: 177094.5938 - val_loss: 7.4514 - val_mean_absolute_error: 7.4514 - val_mse: 183.0275\n",
      "Epoch 9/10\n",
      "667/667 - 9s - loss: 3.6912 - mean_absolute_error: 3.6912 - mse: 124.4389 - val_loss: 5.3796 - val_mean_absolute_error: 5.3796 - val_mse: 147.5399\n",
      "Epoch 10/10\n",
      "667/667 - 9s - loss: 3.9532 - mean_absolute_error: 3.9532 - mse: 366942.1250 - val_loss: 3.3666 - val_mean_absolute_error: 3.3666 - val_mse: 129089.2031\n"
     ]
    }
   ],
   "source": [
    "# Model runs with a streamer for both the train and validation sets for 10 epochs\n",
    "lengths = [6676699, 1432518]\n",
    "history = model.fit(streamer(chunksize, train_file),\n",
    "          steps_per_epoch=lengths[0]//chunksize,\n",
    "          epochs=10,\n",
    "          verbose=2,\n",
    "          validation_data=streamer(chunksize, validation_file), \n",
    "          validation_steps = lengths[1]//chunksize)"
   ]
  },
  {
   "cell_type": "code",
   "execution_count": 21,
   "id": "10269304-4e76-4c5c-ba0d-7422a030237d",
   "metadata": {},
   "outputs": [
    {
     "data": {
      "image/png": "[encoded data removed]",
      "text/plain": [
       "<Figure size 432x288 with 1 Axes>"
      ]
     },
     "metadata": {
      "needs_background": "light"
     },
     "output_type": "display_data"
    },
    {
     "data": {
      "text/plain": [
       "<Figure size 432x288 with 0 Axes>"
      ]
     },
     "metadata": {},
     "output_type": "display_data"
    }
   ],
   "source": [
    "# Plot of loss over each epoch\n",
    "plt.plot(history.history['loss'])\n",
    "plt.plot(history.history['val_loss'])\n",
    "plt.title('Model Loss')\n",
    "plt.ylabel('loss')\n",
    "plt.xlabel('epoch')\n",
    "plt.legend(['Train', 'Validation'], loc='upper left')\n",
    "plt.show()\n",
    "plt.savefig('2020_loss.png')"
   ]
  },
  {
   "cell_type": "code",
   "execution_count": 22,
   "id": "63ffe8cc-fd97-4700-bb89-9e38a595d813",
   "metadata": {},
   "outputs": [],
   "source": [
    "# Test set\n",
    "test = pd.read_csv('2020_Yellow_Taxi_Trip_Data_test.csv')             \n",
    "x = test[['trip_distance', 'trip_seconds', 'month']]\n",
    "y = test['total_amount']"
   ]
  },
  {
   "cell_type": "code",
   "execution_count": 23,
   "id": "5b95d654-a808-46e7-91b2-b34a284bd3fc",
   "metadata": {},
   "outputs": [],
   "source": [
    "# Saving model in a H5py format\n",
    "model.save('models/NN_model_2020.h5')"
   ]
  },
  {
   "cell_type": "code",
   "execution_count": 24,
   "id": "34e81775-c05b-49e6-928c-8faf663ac1a7",
   "metadata": {},
   "outputs": [],
   "source": [
    "# Predicting values using test set\n",
    "predictions = model.predict(x)"
   ]
  },
  {
   "cell_type": "code",
   "execution_count": 25,
   "id": "6f9ff86d-898b-428d-8e3e-de6e715be9c3",
   "metadata": {},
   "outputs": [
    {
     "name": "stdout",
     "output_type": "stream",
     "text": [
      "115542/115542 [==============================] - 91s 788us/step - loss: 0.0000e+00 - mean_absolute_error: 0.0000e+00 - mse: 0.0000e+00\n"
     ]
    },
    {
     "data": {
      "text/plain": [
       "[0.0, 0.0, 0.0]"
      ]
     },
     "execution_count": 25,
     "metadata": {},
     "output_type": "execute_result"
    }
   ],
   "source": [
    "# Evaluating model using test data\n",
    "model.evaluate(x)"
   ]
  },
  {
   "cell_type": "code",
   "execution_count": 26,
   "id": "59542fee-dd68-4945-b8f2-a55e79ab5b76",
   "metadata": {},
   "outputs": [
    {
     "data": {
      "image/png": "[encoded data removed]",
      "text/plain": [
       "<Figure size 720x720 with 1 Axes>"
      ]
     },
     "metadata": {
      "needs_background": "light"
     },
     "output_type": "display_data"
    }
   ],
   "source": [
    "# Plot of actual vs predicted values\n",
    "y = y.to_numpy()\n",
    "plt.figure(figsize=(10,10))\n",
    "plt.scatter(y, predictions, c='crimson')\n",
    "\n",
    "\n",
    "p1 = max(max(predictions), max(y))\n",
    "p2 = min(min(predictions), min(y))\n",
    "plt.plot([p1, p2], [p1, p2], 'b-')\n",
    "plt.xlabel('Actual Values', fontsize=15)\n",
    "plt.ylabel('Predicted Values', fontsize=15)\n",
    "plt.xlim(0,100)\n",
    "plt.ylim(0,100)\n",
    "plt.show()"
   ]
  }
 ],
 "metadata": {
  "kernelspec": {
   "display_name": "Spark 3 in Python 3",
   "language": "python",
   "name": "pyspark3"
  },
  "language_info": {
   "codemirror_mode": {
    "name": "ipython",
    "version": 3
   },
   "file_extension": ".py",
   "mimetype": "text/x-python",
   "name": "python",
   "nbconvert_exporter": "python",
   "pygments_lexer": "ipython3",
   "version": "3.9.5"
  }
 },
 "nbformat": 4,
 "nbformat_minor": 5
}
