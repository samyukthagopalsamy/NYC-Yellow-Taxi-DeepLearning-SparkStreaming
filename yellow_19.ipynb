{
 "cells": [
  {
   "cell_type": "code",
   "execution_count": null,
   "id": "6e2fa84b-00ad-4f5a-ae93-34a76849d06e",
   "metadata": {},
   "outputs": [],
   "source": [
    "import pandas as pd\n",
    "import numpy as np\n",
    "import matplotlib.pyplot as plt\n",
    "import tensorflow as tf\n",
    "from tensorflow import keras\n",
    "from tensorflow.keras.models import Sequential\n",
    "from tensorflow.keras.layers import Dense"
   ]
  },
  {
   "cell_type": "code",
   "execution_count": null,
   "id": "d383ea4f-c479-4d8f-8fd5-ee19ae0b7382",
   "metadata": {},
   "outputs": [],
   "source": [
    "def streamer(stream, data):\n",
    "    while True:\n",
    "        for data in pd.read_csv(data, chunksize=stream):\n",
    "            # x = data[['tpep_pickup_datetime', 'tpep_dropoff_datetime', 'trip_distance']].to_numpy()\n",
    "            data = data[data['tpep_pickup_datetime'].notna()]\n",
    "            data = data[data['tpep_dropoff_datetime'].notna()]\n",
    "            data['tpep_pickup_datetime'] = pd.to_datetime(data['tpep_pickup_datetime'], errors='coerce')\n",
    "            data['tpep_dropoff_datetime'] = pd.to_datetime(data['tpep_dropoff_datetime'], errors='coerce')\n",
    "            data['trip_seconds'] = (data['tpep_dropoff_datetime'] - data['tpep_pickup_datetime']).dt.total_seconds()\n",
    "            data['month'] = data['tpep_dropoff_datetime'].dt.month\n",
    "            data = data[data['trip_distance'].notna()]\n",
    "            # data = data[data['tip_amount'].notna()]\n",
    "            # data = data[data['passenger_count'].notna()]\n",
    "            data = data[data['total_amount'].notna()]            \n",
    "            x = data[['trip_distance', 'trip_seconds', 'month']].to_numpy()\n",
    "            y = data['total_amount'].to_numpy()\n",
    "            yield x, y"
   ]
  },
  {
   "cell_type": "code",
   "execution_count": null,
   "id": "2f276448-86c7-4665-8ba3-7357626c39a2",
   "metadata": {},
   "outputs": [],
   "source": [
    "# yellow_19 = pd.read_csv('2019_Yellow_Taxi_Trip_Data.csv')"
   ]
  },
  {
   "cell_type": "code",
   "execution_count": null,
   "id": "ccfc2434-f953-40be-a733-840a1f1c822a",
   "metadata": {},
   "outputs": [],
   "source": [
    "# yellow_19 = yellow_19[yellow_19['tpep_pickup_datetime'].notna()]"
   ]
  },
  {
   "cell_type": "code",
   "execution_count": null,
   "id": "905a3ee7-ed8d-4964-b284-5f5650f87f25",
   "metadata": {},
   "outputs": [],
   "source": [
    "# yellow_19['tpep_pickup_datetime'] = pd.to_datetime(yellow_19['tpep_pickup_datetime'], errors='coerce')\n",
    "# yellow_19['tpep_dropoff_datetime'] = pd.to_datetime(yellow_19['tpep_dropoff_datetime'], errors='coerce')"
   ]
  },
  {
   "cell_type": "code",
   "execution_count": null,
   "id": "304ad842-43fc-428f-8bae-1e7b82342b4a",
   "metadata": {},
   "outputs": [],
   "source": [
    "# yellow_19['trip_seconds'] = (yellow_19['tpep_dropoff_datetime'] - yellow_19['tpep_pickup_datetime']).dt.total_seconds()\n",
    "# yellow_19['month'] = yellow_19['tpep_dropoff_datetime'].dt.month"
   ]
  },
  {
   "cell_type": "code",
   "execution_count": null,
   "id": "a033cdb2-df00-4829-9625-6f1977aa9b04",
   "metadata": {},
   "outputs": [],
   "source": [
    "# yellow_19.info()"
   ]
  },
  {
   "cell_type": "code",
   "execution_count": null,
   "id": "8278baa7-1ced-432b-9aa0-d9aca4b21fc9",
   "metadata": {},
   "outputs": [],
   "source": [
    "# Neural network model with 2 hidden layers using mean absolute error as the loss metric\n",
    "NN_model_2019 = Sequential()\n",
    "\n",
    "# The Input Layer :\n",
    "NN_model_2019.add(Dense(16, kernel_initializer='normal',input_dim = 3, activation='relu'))\n",
    "\n",
    "# The Hidden Layer :\n",
    "NN_model_2019.add(Dense(32, kernel_initializer='normal',activation='relu'))\n",
    "NN_model_2019.add(Dense(32, kernel_initializer='normal',activation='relu'))\n",
    "\n",
    "# The Output Layer :\n",
    "NN_model_2019.add(Dense(1, kernel_initializer='normal',activation='linear'))\n",
    "NN_model_2019.compile(loss='mean_absolute_error', optimizer='adam', metrics=['mean_absolute_error', 'mse'])\n"
   ]
  },
  {
   "cell_type": "code",
   "execution_count": null,
   "id": "156b52bc-3e7f-45e4-949b-7ed2f85059e6",
   "metadata": {},
   "outputs": [],
   "source": [
    "# yellow_19_train = pd.read_csv('2019_Yellow_Taxi_Trip_Data_training.csv')\n",
    "# yellow_19_test = pd.read_csv('2019_Yellow_Taxi_Trip_Data_validation.csv')"
   ]
  },
  {
   "cell_type": "code",
   "execution_count": null,
   "id": "0881a9f2-c476-4741-bcc2-1aa95a178e2b",
   "metadata": {},
   "outputs": [],
   "source": [
    "# yellow_19_train.count()"
   ]
  },
  {
   "cell_type": "code",
   "execution_count": null,
   "id": "f36bafda-32d9-46b0-98c9-338288bb445f",
   "metadata": {},
   "outputs": [],
   "source": [
    "# yellow_19_test.count()"
   ]
  },
  {
   "cell_type": "code",
   "execution_count": null,
   "id": "0e00b449-3835-44c1-b06f-f6b0ede520c5",
   "metadata": {},
   "outputs": [],
   "source": [
    "# Lengths of the train and validation data\n",
    "lengths_2019 = [6675578, 1432688]\n",
    "train_file = '2019_Yellow_Taxi_Trip_Data_training.csv'\n",
    "validation_file = '2019_Yellow_Taxi_Trip_Data_validation.csv'\n",
    "chunksize = 10000\n",
    "\n",
    "# Model runs with a generator for both the train and validation sets for 10 epochs\n",
    "history = NN_model_2019.fit(streamer(chunksize, train_file),\n",
    "          steps_per_epoch=lengths_2019[0]//chunksize,\n",
    "          epochs=10,\n",
    "          verbose=2,\n",
    "          validation_data=streamer(chunksize, validation_file), \n",
    "          validation_steps = lengths_2019[1]//chunksize)"
   ]
  },
  {
   "cell_type": "code",
   "execution_count": null,
   "id": "06ab56a2-1289-4b23-9e87-6cc21d7bcaa4",
   "metadata": {},
   "outputs": [],
   "source": [
    "plt.plot(history.history['loss'])\n",
    "plt.plot(history.history['val_loss'])\n",
    "plt.title('Model Loss')\n",
    "plt.ylabel('loss')\n",
    "plt.xlabel('epoch')\n",
    "plt.legend(['Train', 'Valiation'], loc='upper left')\n",
    "plt.show()\n",
    "plt.savefig('2019_loss.png')"
   ]
  },
  {
   "cell_type": "code",
   "execution_count": null,
   "id": "1ab356d0-eb85-44b7-b2f9-837286c77683",
   "metadata": {},
   "outputs": [],
   "source": [
    "# Loading in test data and isolating four relevant columns\n",
    "test_2019 = pd.read_csv('2019_Yellow_Taxi_Trip_Data_test.csv')  \n",
    "\n",
    "test_2019 = test_2019[test_2019['tpep_pickup_datetime'].notna()]\n",
    "test_2019 = test_2019[test_2019['tpep_dropoff_datetime'].notna()]\n",
    "test_2019['tpep_pickup_datetime'] = pd.to_datetime(test_2019['tpep_pickup_datetime'], errors='coerce')\n",
    "test_2019['tpep_dropoff_datetime'] = pd.to_datetime(test_2019['tpep_dropoff_datetime'], errors='coerce')\n",
    "test_2019['trip_seconds'] = (test_2019['tpep_dropoff_datetime'] - test_2019['tpep_pickup_datetime']).dt.total_seconds()\n",
    "test_2019['month'] = test_2019['tpep_dropoff_datetime'].dt.month\n",
    "test_2019 = test_2019[test_2019['trip_distance'].notna()]\n",
    "test_2019 = test_2019[test_2019['total_amount'].notna()]            \n",
    "x = test_2019[['trip_distance', 'trip_seconds', 'month']]\n",
    "y = test_2019['total_amount']"
   ]
  },
  {
   "cell_type": "code",
   "execution_count": null,
   "id": "e9e59258-13a5-431b-9426-89ad4988b0f7",
   "metadata": {},
   "outputs": [],
   "source": [
    "# Saving model in a H5py format\n",
    "NN_model_2019.save('NN_model_2019.h5')"
   ]
  },
  {
   "cell_type": "code",
   "execution_count": null,
   "id": "e198fecf-bc76-4834-87b4-7b7c1d70ff9b",
   "metadata": {},
   "outputs": [],
   "source": [
    "# Predicting values using test set\n",
    "predictions = NN_model_2019.predict(x)"
   ]
  },
  {
   "cell_type": "code",
   "execution_count": null,
   "id": "900d9aae-5bd7-43e1-946d-44e4ca2b9ca4",
   "metadata": {},
   "outputs": [],
   "source": [
    "# Evaluating model using test data\n",
    "NN_model_2019.evaluate(x)"
   ]
  },
  {
   "cell_type": "code",
   "execution_count": null,
   "id": "d8787b11-ff79-4417-8e2d-446305b7d816",
   "metadata": {},
   "outputs": [],
   "source": [
    "# Plot of actual vs predicted values\n",
    "y = y.to_numpy()\n",
    "plt.figure(figsize=(10,10))\n",
    "plt.scatter(y, predictions, c='crimson')\n",
    "\n",
    "\n",
    "p1 = max(max(predictions), max(y))\n",
    "p2 = min(min(predictions), min(y))\n",
    "plt.plot([p1, p2], [p1, p2], 'b-')\n",
    "plt.xlabel('True Values', fontsize=15)\n",
    "plt.ylabel('Predictions', fontsize=15)\n",
    "plt.xlim(0,100)\n",
    "plt.ylim(0,100)\n",
    "plt.show()"
   ]
  },
  {
   "cell_type": "code",
   "execution_count": null,
   "id": "cb15b6cf-987e-4e30-9530-66c22454bc2b",
   "metadata": {},
   "outputs": [],
   "source": []
  }
 ],
 "metadata": {
  "kernelspec": {
   "display_name": "Spark 3 in Python 3",
   "language": "python",
   "name": "pyspark3"
  },
  "language_info": {
   "codemirror_mode": {
    "name": "ipython",
    "version": 3
   },
   "file_extension": ".py",
   "mimetype": "text/x-python",
   "name": "python",
   "nbconvert_exporter": "python",
   "pygments_lexer": "ipython3",
   "version": "3.8.10"
  }
 },
 "nbformat": 4,
 "nbformat_minor": 5
}
