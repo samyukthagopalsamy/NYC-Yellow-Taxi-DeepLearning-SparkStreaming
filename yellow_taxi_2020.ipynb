{
 "cells": [
  {
   "cell_type": "code",
   "execution_count": 1,
   "id": "dd46d7d1-87eb-493c-a864-6986c0295d48",
   "metadata": {},
   "outputs": [],
   "source": [
    "import pandas as pd\n",
    "import numpy as np\n",
    "from pyspark.sql.functions import col, to_timestamp, month\n",
    "import matplotlib.pyplot as plt\n",
    "import tensorflow as tf\n",
    "from tensorflow import keras\n",
    "from tensorflow.keras.models import Sequential\n",
    "from tensorflow.keras.layers import Dense"
   ]
  },
  {
   "cell_type": "code",
   "execution_count": 2,
   "id": "17412c7e-ff91-4429-b891-76e2b542ce1f",
   "metadata": {},
   "outputs": [],
   "source": [
    "yellow_20 = spark.read.load('2020_Yellow_Taxi_Trip_Data.csv',format='csv', sep=',', inferSchema='true', header='true')"
   ]
  },
  {
   "cell_type": "code",
   "execution_count": 3,
   "id": "17aa99a3-16a1-4d70-9571-3a1d77c5c3c4",
   "metadata": {},
   "outputs": [
    {
     "data": {
      "text/plain": [
       "24648499"
      ]
     },
     "execution_count": 3,
     "metadata": {},
     "output_type": "execute_result"
    }
   ],
   "source": [
    "yellow_20.count()"
   ]
  },
  {
   "cell_type": "code",
   "execution_count": 4,
   "id": "7b961a3e-2a87-465a-9469-f84cc0dea6f4",
   "metadata": {},
   "outputs": [
    {
     "name": "stdout",
     "output_type": "stream",
     "text": [
      "root\n",
      " |-- VendorID: integer (nullable = true)\n",
      " |-- tpep_pickup_datetime: string (nullable = true)\n",
      " |-- tpep_dropoff_datetime: string (nullable = true)\n",
      " |-- passenger_count: integer (nullable = true)\n",
      " |-- trip_distance: double (nullable = true)\n",
      " |-- RatecodeID: integer (nullable = true)\n",
      " |-- store_and_fwd_flag: string (nullable = true)\n",
      " |-- PULocationID: integer (nullable = true)\n",
      " |-- DOLocationID: integer (nullable = true)\n",
      " |-- payment_type: integer (nullable = true)\n",
      " |-- fare_amount: double (nullable = true)\n",
      " |-- extra: double (nullable = true)\n",
      " |-- mta_tax: double (nullable = true)\n",
      " |-- tip_amount: double (nullable = true)\n",
      " |-- tolls_amount: double (nullable = true)\n",
      " |-- improvement_surcharge: double (nullable = true)\n",
      " |-- total_amount: double (nullable = true)\n",
      " |-- congestion_surcharge: double (nullable = true)\n",
      "\n"
     ]
    }
   ],
   "source": [
    "yellow_20.printSchema()"
   ]
  },
  {
   "cell_type": "code",
   "execution_count": 5,
   "id": "223c8e45-a5e2-4543-83b3-70ffcba3e374",
   "metadata": {},
   "outputs": [
    {
     "data": {
      "text/html": [
       "<div>\n",
       "<style scoped>\n",
       "    .dataframe tbody tr th:only-of-type {\n",
       "        vertical-align: middle;\n",
       "    }\n",
       "\n",
       "    .dataframe tbody tr th {\n",
       "        vertical-align: top;\n",
       "    }\n",
       "\n",
       "    .dataframe thead th {\n",
       "        text-align: right;\n",
       "    }\n",
       "</style>\n",
       "<table border=\"1\" class=\"dataframe\">\n",
       "  <thead>\n",
       "    <tr style=\"text-align: right;\">\n",
       "      <th></th>\n",
       "      <th>VendorID</th>\n",
       "      <th>tpep_pickup_datetime</th>\n",
       "      <th>tpep_dropoff_datetime</th>\n",
       "      <th>passenger_count</th>\n",
       "      <th>trip_distance</th>\n",
       "      <th>RatecodeID</th>\n",
       "      <th>store_and_fwd_flag</th>\n",
       "      <th>PULocationID</th>\n",
       "      <th>DOLocationID</th>\n",
       "      <th>payment_type</th>\n",
       "      <th>fare_amount</th>\n",
       "      <th>extra</th>\n",
       "      <th>mta_tax</th>\n",
       "      <th>tip_amount</th>\n",
       "      <th>tolls_amount</th>\n",
       "      <th>improvement_surcharge</th>\n",
       "      <th>total_amount</th>\n",
       "      <th>congestion_surcharge</th>\n",
       "    </tr>\n",
       "  </thead>\n",
       "  <tbody>\n",
       "    <tr>\n",
       "      <th>0</th>\n",
       "      <td>1</td>\n",
       "      <td>01/01/2020 12:28:15 AM</td>\n",
       "      <td>01/01/2020 12:33:03 AM</td>\n",
       "      <td>1</td>\n",
       "      <td>1.2</td>\n",
       "      <td>1</td>\n",
       "      <td>N</td>\n",
       "      <td>238</td>\n",
       "      <td>239</td>\n",
       "      <td>1</td>\n",
       "      <td>6.0</td>\n",
       "      <td>3.0</td>\n",
       "      <td>0.5</td>\n",
       "      <td>1.47</td>\n",
       "      <td>0.0</td>\n",
       "      <td>0.3</td>\n",
       "      <td>11.27</td>\n",
       "      <td>2.5</td>\n",
       "    </tr>\n",
       "    <tr>\n",
       "      <th>1</th>\n",
       "      <td>1</td>\n",
       "      <td>01/01/2020 12:35:39 AM</td>\n",
       "      <td>01/01/2020 12:43:04 AM</td>\n",
       "      <td>1</td>\n",
       "      <td>1.2</td>\n",
       "      <td>1</td>\n",
       "      <td>N</td>\n",
       "      <td>239</td>\n",
       "      <td>238</td>\n",
       "      <td>1</td>\n",
       "      <td>7.0</td>\n",
       "      <td>3.0</td>\n",
       "      <td>0.5</td>\n",
       "      <td>1.50</td>\n",
       "      <td>0.0</td>\n",
       "      <td>0.3</td>\n",
       "      <td>12.30</td>\n",
       "      <td>2.5</td>\n",
       "    </tr>\n",
       "    <tr>\n",
       "      <th>2</th>\n",
       "      <td>1</td>\n",
       "      <td>01/01/2020 12:47:41 AM</td>\n",
       "      <td>01/01/2020 12:53:52 AM</td>\n",
       "      <td>1</td>\n",
       "      <td>0.6</td>\n",
       "      <td>1</td>\n",
       "      <td>N</td>\n",
       "      <td>238</td>\n",
       "      <td>238</td>\n",
       "      <td>1</td>\n",
       "      <td>6.0</td>\n",
       "      <td>3.0</td>\n",
       "      <td>0.5</td>\n",
       "      <td>1.00</td>\n",
       "      <td>0.0</td>\n",
       "      <td>0.3</td>\n",
       "      <td>10.80</td>\n",
       "      <td>2.5</td>\n",
       "    </tr>\n",
       "    <tr>\n",
       "      <th>3</th>\n",
       "      <td>1</td>\n",
       "      <td>01/01/2020 12:55:23 AM</td>\n",
       "      <td>01/01/2020 01:00:14 AM</td>\n",
       "      <td>1</td>\n",
       "      <td>0.8</td>\n",
       "      <td>1</td>\n",
       "      <td>N</td>\n",
       "      <td>238</td>\n",
       "      <td>151</td>\n",
       "      <td>1</td>\n",
       "      <td>5.5</td>\n",
       "      <td>0.5</td>\n",
       "      <td>0.5</td>\n",
       "      <td>1.36</td>\n",
       "      <td>0.0</td>\n",
       "      <td>0.3</td>\n",
       "      <td>8.16</td>\n",
       "      <td>0.0</td>\n",
       "    </tr>\n",
       "    <tr>\n",
       "      <th>4</th>\n",
       "      <td>2</td>\n",
       "      <td>01/01/2020 12:01:58 AM</td>\n",
       "      <td>01/01/2020 12:04:16 AM</td>\n",
       "      <td>1</td>\n",
       "      <td>0.0</td>\n",
       "      <td>1</td>\n",
       "      <td>N</td>\n",
       "      <td>193</td>\n",
       "      <td>193</td>\n",
       "      <td>2</td>\n",
       "      <td>3.5</td>\n",
       "      <td>0.5</td>\n",
       "      <td>0.5</td>\n",
       "      <td>0.00</td>\n",
       "      <td>0.0</td>\n",
       "      <td>0.3</td>\n",
       "      <td>4.80</td>\n",
       "      <td>0.0</td>\n",
       "    </tr>\n",
       "  </tbody>\n",
       "</table>\n",
       "</div>"
      ],
      "text/plain": [
       "   VendorID    tpep_pickup_datetime   tpep_dropoff_datetime  passenger_count  \\\n",
       "0         1  01/01/2020 12:28:15 AM  01/01/2020 12:33:03 AM                1   \n",
       "1         1  01/01/2020 12:35:39 AM  01/01/2020 12:43:04 AM                1   \n",
       "2         1  01/01/2020 12:47:41 AM  01/01/2020 12:53:52 AM                1   \n",
       "3         1  01/01/2020 12:55:23 AM  01/01/2020 01:00:14 AM                1   \n",
       "4         2  01/01/2020 12:01:58 AM  01/01/2020 12:04:16 AM                1   \n",
       "\n",
       "   trip_distance  RatecodeID store_and_fwd_flag  PULocationID  DOLocationID  \\\n",
       "0            1.2           1                  N           238           239   \n",
       "1            1.2           1                  N           239           238   \n",
       "2            0.6           1                  N           238           238   \n",
       "3            0.8           1                  N           238           151   \n",
       "4            0.0           1                  N           193           193   \n",
       "\n",
       "   payment_type  fare_amount  extra  mta_tax  tip_amount  tolls_amount  \\\n",
       "0             1          6.0    3.0      0.5        1.47           0.0   \n",
       "1             1          7.0    3.0      0.5        1.50           0.0   \n",
       "2             1          6.0    3.0      0.5        1.00           0.0   \n",
       "3             1          5.5    0.5      0.5        1.36           0.0   \n",
       "4             2          3.5    0.5      0.5        0.00           0.0   \n",
       "\n",
       "   improvement_surcharge  total_amount  congestion_surcharge  \n",
       "0                    0.3         11.27                   2.5  \n",
       "1                    0.3         12.30                   2.5  \n",
       "2                    0.3         10.80                   2.5  \n",
       "3                    0.3          8.16                   0.0  \n",
       "4                    0.3          4.80                   0.0  "
      ]
     },
     "execution_count": 5,
     "metadata": {},
     "output_type": "execute_result"
    }
   ],
   "source": [
    "yellow_20.limit(5).toPandas()"
   ]
  },
  {
   "cell_type": "code",
   "execution_count": 6,
   "id": "2b3159ee-3070-4cec-87f0-2d75cc7d9029",
   "metadata": {},
   "outputs": [],
   "source": [
    "yellow_20 = yellow_20.withColumn('tpep_pickup_datetime', to_timestamp(col('tpep_pickup_datetime'), 'MM/dd/yyyy hh:mm:ss a'))\n",
    "yellow_20 = yellow_20.withColumn('tpep_dropoff_datetime', to_timestamp(col('tpep_dropoff_datetime'), 'MM/dd/yyyy hh:mm:ss a'))\n",
    "\n",
    "yellow_20 = yellow_20.filter(yellow_20.tpep_pickup_datetime.isNotNull())\n",
    "yellow_20 = yellow_20.filter(yellow_20.tpep_dropoff_datetime.isNotNull())\n",
    "\n",
    "yellow_20 = yellow_20.withColumn('trip_seconds',col(\"tpep_dropoff_datetime\").cast(\"long\") - col('tpep_pickup_datetime').cast(\"long\"))\n",
    "yellow_20 = yellow_20.withColumn('month', month(col('tpep_pickup_datetime')))\n",
    "\n",
    "yellow_20 = yellow_20.filter(yellow_20.trip_distance.isNotNull())\n",
    "yellow_20 = yellow_20.filter(yellow_20.total_amount.isNotNull())\n",
    "\n",
    "yellow_20 = yellow_20.select(\"month\",\"trip_seconds\", \"trip_distance\", \"total_amount\")"
   ]
  },
  {
   "cell_type": "code",
   "execution_count": 7,
   "id": "fbe93055-47ae-4c27-ba2a-de16c1db8ac7",
   "metadata": {},
   "outputs": [
    {
     "data": {
      "text/html": [
       "<div>\n",
       "<style scoped>\n",
       "    .dataframe tbody tr th:only-of-type {\n",
       "        vertical-align: middle;\n",
       "    }\n",
       "\n",
       "    .dataframe tbody tr th {\n",
       "        vertical-align: top;\n",
       "    }\n",
       "\n",
       "    .dataframe thead th {\n",
       "        text-align: right;\n",
       "    }\n",
       "</style>\n",
       "<table border=\"1\" class=\"dataframe\">\n",
       "  <thead>\n",
       "    <tr style=\"text-align: right;\">\n",
       "      <th></th>\n",
       "      <th>month</th>\n",
       "      <th>trip_seconds</th>\n",
       "      <th>trip_distance</th>\n",
       "      <th>total_amount</th>\n",
       "    </tr>\n",
       "  </thead>\n",
       "  <tbody>\n",
       "    <tr>\n",
       "      <th>0</th>\n",
       "      <td>1</td>\n",
       "      <td>288</td>\n",
       "      <td>1.2</td>\n",
       "      <td>11.27</td>\n",
       "    </tr>\n",
       "    <tr>\n",
       "      <th>1</th>\n",
       "      <td>1</td>\n",
       "      <td>445</td>\n",
       "      <td>1.2</td>\n",
       "      <td>12.30</td>\n",
       "    </tr>\n",
       "    <tr>\n",
       "      <th>2</th>\n",
       "      <td>1</td>\n",
       "      <td>371</td>\n",
       "      <td>0.6</td>\n",
       "      <td>10.80</td>\n",
       "    </tr>\n",
       "    <tr>\n",
       "      <th>3</th>\n",
       "      <td>1</td>\n",
       "      <td>291</td>\n",
       "      <td>0.8</td>\n",
       "      <td>8.16</td>\n",
       "    </tr>\n",
       "    <tr>\n",
       "      <th>4</th>\n",
       "      <td>1</td>\n",
       "      <td>138</td>\n",
       "      <td>0.0</td>\n",
       "      <td>4.80</td>\n",
       "    </tr>\n",
       "  </tbody>\n",
       "</table>\n",
       "</div>"
      ],
      "text/plain": [
       "   month  trip_seconds  trip_distance  total_amount\n",
       "0      1           288            1.2         11.27\n",
       "1      1           445            1.2         12.30\n",
       "2      1           371            0.6         10.80\n",
       "3      1           291            0.8          8.16\n",
       "4      1           138            0.0          4.80"
      ]
     },
     "execution_count": 7,
     "metadata": {},
     "output_type": "execute_result"
    }
   ],
   "source": [
    "yellow_20.limit(5).toPandas()"
   ]
  },
  {
   "cell_type": "code",
   "execution_count": 8,
   "id": "7236ec7a-03e2-4c72-9d60-67adc7f7f5e0",
   "metadata": {},
   "outputs": [],
   "source": [
    "train, validation, test = yellow_20.randomSplit([0.7, 0.15, 0.15])"
   ]
  },
  {
   "cell_type": "code",
   "execution_count": 9,
   "id": "539159c1-52c8-4c6d-a74d-e4a5b37ca9ed",
   "metadata": {},
   "outputs": [
    {
     "data": {
      "text/plain": [
       "17254835"
      ]
     },
     "execution_count": 9,
     "metadata": {},
     "output_type": "execute_result"
    }
   ],
   "source": [
    "train.count()"
   ]
  },
  {
   "cell_type": "code",
   "execution_count": 10,
   "id": "3b1045a5-6f4b-4e4f-a00d-32dbfb2fcd71",
   "metadata": {},
   "outputs": [
    {
     "data": {
      "text/plain": [
       "3697049"
      ]
     },
     "execution_count": 10,
     "metadata": {},
     "output_type": "execute_result"
    }
   ],
   "source": [
    "validation.count()"
   ]
  },
  {
   "cell_type": "code",
   "execution_count": 11,
   "id": "c43716a7-f2b6-4357-ac5e-8af8a6c88ebe",
   "metadata": {},
   "outputs": [
    {
     "data": {
      "text/plain": [
       "3696615"
      ]
     },
     "execution_count": 11,
     "metadata": {},
     "output_type": "execute_result"
    }
   ],
   "source": [
    "test.count()"
   ]
  },
  {
   "cell_type": "code",
   "execution_count": 12,
   "id": "50878acc-6c52-483c-a4b4-b8282984e6a8",
   "metadata": {},
   "outputs": [],
   "source": [
    "train = train.toPandas()"
   ]
  },
  {
   "cell_type": "code",
   "execution_count": 13,
   "id": "e7c6a13a-a6e3-430d-a09d-d925579173c5",
   "metadata": {},
   "outputs": [],
   "source": [
    "validation = validation.toPandas()"
   ]
  },
  {
   "cell_type": "code",
   "execution_count": 14,
   "id": "21690301-0a01-481c-a956-878f7aa47600",
   "metadata": {},
   "outputs": [],
   "source": [
    "test = test.toPandas()"
   ]
  },
  {
   "cell_type": "code",
   "execution_count": 15,
   "id": "661eb29a-f5e4-4ecb-ae33-ccef7da66b08",
   "metadata": {},
   "outputs": [],
   "source": [
    "train.to_csv('2020_Yellow_Taxi_Trip_Data_training.csv')\n",
    "test.to_csv('2020_Yellow_Taxi_Trip_Data_test.csv')\n",
    "validation.to_csv('2020_Yellow_Taxi_Trip_Data_validation.csv')"
   ]
  },
  {
   "cell_type": "code",
   "execution_count": 16,
   "id": "978b1dee-c0c4-4a79-ace1-f770bc8ca6a6",
   "metadata": {},
   "outputs": [],
   "source": [
    "def streamer(chunk_size, file):\n",
    "    while True:\n",
    "        for data in pd.read_csv(file, chunksize=chunk_size):\n",
    "            data = data[data['trip_distance'].notna()]\n",
    "            data = data[data['trip_seconds'].notna()]\n",
    "            data = data[data['month'].notna()]\n",
    "            data = data[data['total_amount'].notna()]\n",
    "            x = data[['trip_distance', 'trip_seconds', 'month']].to_numpy()\n",
    "            y = data['total_amount'].to_numpy()\n",
    "            yield x, y"
   ]
  },
  {
   "cell_type": "code",
   "execution_count": 17,
   "id": "4067a6c0-c422-4115-a911-82a722524cf3",
   "metadata": {},
   "outputs": [
    {
     "name": "stdout",
     "output_type": "stream",
     "text": [
      "Model: \"sequential\"\n",
      "_________________________________________________________________\n",
      "Layer (type)                 Output Shape              Param #   \n",
      "=================================================================\n",
      "dense (Dense)                (None, 16)                64        \n",
      "_________________________________________________________________\n",
      "dense_1 (Dense)              (None, 32)                544       \n",
      "_________________________________________________________________\n",
      "dense_2 (Dense)              (None, 32)                1056      \n",
      "_________________________________________________________________\n",
      "dense_3 (Dense)              (None, 1)                 33        \n",
      "=================================================================\n",
      "Total params: 1,697\n",
      "Trainable params: 1,697\n",
      "Non-trainable params: 0\n",
      "_________________________________________________________________\n"
     ]
    }
   ],
   "source": [
    "# Neural network model with 2 hidden layers using mean absolute error as the loss metric\n",
    "model = Sequential()\n",
    "\n",
    "model.add(Dense(16, kernel_initializer='normal',input_dim = 3, activation='relu')) # The Input Layer\n",
    "\n",
    "# The Hidden Layer\n",
    "model.add(Dense(32, kernel_initializer='normal',activation='relu'))\n",
    "model.add(Dense(32, kernel_initializer='normal',activation='relu'))\n",
    "\n",
    "model.add(Dense(1, kernel_initializer='normal',activation='linear')) # The Output Layer\n",
    "model.compile(loss='mean_absolute_error', optimizer='adam', metrics=['mean_absolute_error', 'mse'])\n",
    "model.summary()"
   ]
  },
  {
   "cell_type": "code",
   "execution_count": 18,
   "id": "d76f8fb6-1d8b-49ce-8e34-ee5562a7cbff",
   "metadata": {},
   "outputs": [],
   "source": [
    "train_file = '2020_Yellow_Taxi_Trip_Data_training.csv'\n",
    "validation_file = '2020_Yellow_Taxi_Trip_Data_validation.csv'\n",
    "chunksize = 10000"
   ]
  },
  {
   "cell_type": "code",
   "execution_count": 20,
   "id": "6a0f441d-d214-4a5d-8f78-e1e4a495cba3",
   "metadata": {},
   "outputs": [
    {
     "name": "stdout",
     "output_type": "stream",
     "text": [
      "Epoch 1/10\n",
      "667/667 - 17s - loss: 8.3763 - mean_absolute_error: 8.3763 - mse: 4154.0835 - val_loss: 7.8664 - val_mean_absolute_error: 7.8664 - val_mse: 6101.6450\n",
      "Epoch 2/10\n",
      "667/667 - 17s - loss: 8.1579 - mean_absolute_error: 8.1579 - mse: 3944.2476 - val_loss: 8.1939 - val_mean_absolute_error: 8.1939 - val_mse: 3574.8882\n",
      "Epoch 3/10\n",
      "667/667 - 17s - loss: 6.5105 - mean_absolute_error: 6.5105 - mse: 2867.0945 - val_loss: 7.2542 - val_mean_absolute_error: 7.2542 - val_mse: 60842.5078\n",
      "Epoch 4/10\n",
      "667/667 - 17s - loss: 5.7825 - mean_absolute_error: 5.7825 - mse: 306528.2812 - val_loss: 7.2948 - val_mean_absolute_error: 7.2948 - val_mse: 7812.3887\n",
      "Epoch 5/10\n",
      "667/667 - 15s - loss: 4.8495 - mean_absolute_error: 4.8495 - mse: 162152.0156 - val_loss: 10.6405 - val_mean_absolute_error: 10.6405 - val_mse: 37587.6641\n",
      "Epoch 6/10\n",
      "667/667 - 9s - loss: 4.3456 - mean_absolute_error: 4.3456 - mse: 2189.5591 - val_loss: 6.6023 - val_mean_absolute_error: 6.6023 - val_mse: 2091.4429\n",
      "Epoch 7/10\n",
      "667/667 - 11s - loss: 4.7020 - mean_absolute_error: 4.7020 - mse: 380749.6875 - val_loss: 6.2281 - val_mean_absolute_error: 6.2281 - val_mse: 165.3446\n",
      "Epoch 8/10\n",
      "667/667 - 11s - loss: 4.1047 - mean_absolute_error: 4.1047 - mse: 35652.7109 - val_loss: 4.4920 - val_mean_absolute_error: 4.4920 - val_mse: 618.2228\n",
      "Epoch 9/10\n",
      "667/667 - 10s - loss: 4.2539 - mean_absolute_error: 4.2539 - mse: 224956.5312 - val_loss: 5.3912 - val_mean_absolute_error: 5.3912 - val_mse: 130189.1094\n",
      "Epoch 10/10\n",
      "667/667 - 10s - loss: 4.5712 - mean_absolute_error: 4.5712 - mse: 210163.4688 - val_loss: 4.5953 - val_mean_absolute_error: 4.5953 - val_mse: 181.7168\n"
     ]
    }
   ],
   "source": [
    "# Model runs with a streamer for both the train and validation sets for 10 epochs\n",
    "lengths = [6676699, 1432518]\n",
    "history = model.fit(streamer(chunksize, train_file),\n",
    "          steps_per_epoch=lengths[0]//chunksize,\n",
    "          epochs=10,\n",
    "          verbose=2,\n",
    "          validation_data=streamer(chunksize, validation_file), \n",
    "          validation_steps = lengths[1]//chunksize)"
   ]
  },
  {
   "cell_type": "code",
   "execution_count": 21,
   "id": "c4259c95-3fcd-4a56-a198-864c1fbfb634",
   "metadata": {},
   "outputs": [
    {
     "data": {
      "image/png": "[encoded data removed]",
      "text/plain": [
       "<Figure size 432x288 with 1 Axes>"
      ]
     },
     "metadata": {
      "needs_background": "light"
     },
     "output_type": "display_data"
    },
    {
     "data": {
      "text/plain": [
       "<Figure size 432x288 with 0 Axes>"
      ]
     },
     "metadata": {},
     "output_type": "display_data"
    }
   ],
   "source": [
    "# Plot of loss over each epoch\n",
    "plt.plot(history.history['loss'])\n",
    "plt.plot(history.history['val_loss'])\n",
    "plt.title('Model Loss')\n",
    "plt.ylabel('loss')\n",
    "plt.xlabel('epoch')\n",
    "plt.legend(['Train', 'Validation'], loc='upper left')\n",
    "plt.show()\n",
    "plt.savefig('2020_loss.png')"
   ]
  },
  {
   "cell_type": "code",
   "execution_count": 22,
   "id": "11f4a8ed-0d29-4cb2-a013-e53100ea9693",
   "metadata": {},
   "outputs": [],
   "source": [
    "# Test set\n",
    "test = pd.read_csv('2020_Yellow_Taxi_Trip_Data_test.csv')             \n",
    "x = test[['trip_distance', 'trip_seconds', 'month']]\n",
    "y = test['total_amount']"
   ]
  },
  {
   "cell_type": "code",
   "execution_count": 23,
   "id": "cbce9911-b28c-45b6-9cc3-5277fbb33e21",
   "metadata": {},
   "outputs": [],
   "source": [
    "# Saving model in a H5py format\n",
    "model.save('models/NN_model_2020.h5')"
   ]
  },
  {
   "cell_type": "code",
   "execution_count": 24,
   "id": "fb75a362-33b8-4c62-9b7d-adbc09845c3d",
   "metadata": {},
   "outputs": [],
   "source": [
    "# Predicting values using test set\n",
    "predictions = model.predict(x)"
   ]
  },
  {
   "cell_type": "code",
   "execution_count": 25,
   "id": "8ff51619-c924-48a6-8867-1e666d86d1ed",
   "metadata": {},
   "outputs": [
    {
     "name": "stdout",
     "output_type": "stream",
     "text": [
      "115542/115542 [==============================] - 94s 811us/step - loss: 0.0000e+00 - mean_absolute_error: 0.0000e+00 - mse: 0.0000e+00\n"
     ]
    },
    {
     "data": {
      "text/plain": [
       "[0.0, 0.0, 0.0]"
      ]
     },
     "execution_count": 25,
     "metadata": {},
     "output_type": "execute_result"
    }
   ],
   "source": [
    "# Evaluating model using test data\n",
    "model.evaluate(x)"
   ]
  },
  {
   "cell_type": "code",
   "execution_count": 26,
   "id": "acb2f28e-74eb-4289-9837-0d8acf84af3d",
   "metadata": {},
   "outputs": [
    {
     "data": {
      "image/png": "[encoded data removed]",
      "text/plain": [
       "<Figure size 720x720 with 1 Axes>"
      ]
     },
     "metadata": {
      "needs_background": "light"
     },
     "output_type": "display_data"
    }
   ],
   "source": [
    "# Plot of actual vs predicted values\n",
    "y = y.to_numpy()\n",
    "plt.figure(figsize=(10,10))\n",
    "plt.scatter(y, predictions, c='crimson')\n",
    "\n",
    "\n",
    "p1 = max(max(predictions), max(y))\n",
    "p2 = min(min(predictions), min(y))\n",
    "plt.plot([p1, p2], [p1, p2], 'b-')\n",
    "plt.xlabel('Actual Values', fontsize=15)\n",
    "plt.ylabel('Predicted Values', fontsize=15)\n",
    "plt.xlim(0,100)\n",
    "plt.ylim(0,100)\n",
    "plt.show()"
   ]
  }
 ],
 "metadata": {
  "kernelspec": {
   "display_name": "Spark 3 in Python 3",
   "language": "python",
   "name": "pyspark3"
  },
  "language_info": {
   "codemirror_mode": {
    "name": "ipython",
    "version": 3
   },
   "file_extension": ".py",
   "mimetype": "text/x-python",
   "name": "python",
   "nbconvert_exporter": "python",
   "pygments_lexer": "ipython3",
   "version": "3.9.5"
  }
 },
 "nbformat": 4,
 "nbformat_minor": 5
}
